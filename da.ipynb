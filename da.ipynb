{
 "cells": [
  {
   "cell_type": "markdown",
   "id": "e80a957b",
   "metadata": {},
   "source": [
    "Titanic Survivor Model, v1\n",
    "Mickey Whittaker\n",
    "6/11/25"
   ]
  },
  {
   "cell_type": "markdown",
   "id": "55c6fdf5",
   "metadata": {},
   "source": [
    "Read CSV data"
   ]
  },
  {
   "cell_type": "code",
   "execution_count": 2,
   "id": "1607ed7b",
   "metadata": {},
   "outputs": [
    {
     "name": "stdout",
     "output_type": "stream",
     "text": [
      "   PassengerId  Survived  Pclass  \\\n",
      "0            1         0       3   \n",
      "1            2         1       1   \n",
      "2            3         1       3   \n",
      "3            4         1       1   \n",
      "4            5         0       3   \n",
      "\n",
      "                                                Name     Sex   Age  SibSp  \\\n",
      "0                            Braund, Mr. Owen Harris    male  22.0      1   \n",
      "1  Cumings, Mrs. John Bradley (Florence Briggs Th...  female  38.0      1   \n",
      "2                             Heikkinen, Miss. Laina  female  26.0      0   \n",
      "3       Futrelle, Mrs. Jacques Heath (Lily May Peel)  female  35.0      1   \n",
      "4                           Allen, Mr. William Henry    male  35.0      0   \n",
      "\n",
      "   Parch            Ticket     Fare Cabin Embarked  \n",
      "0      0         A/5 21171   7.2500   NaN        S  \n",
      "1      0          PC 17599  71.2833   C85        C  \n",
      "2      0  STON/O2. 3101282   7.9250   NaN        S  \n",
      "3      0            113803  53.1000  C123        S  \n",
      "4      0            373450   8.0500   NaN        S  \n"
     ]
    }
   ],
   "source": [
    "import pandas as pd\n",
    "\n",
    "train = pd.read_csv('train.csv')\n",
    "test  = pd.read_csv('test.csv')\n",
    "print(train.head())"
   ]
  },
  {
   "cell_type": "markdown",
   "id": "db72d967",
   "metadata": {},
   "source": [
    "Drop Name and Ticket columns, not valuable to my understanding"
   ]
  },
  {
   "cell_type": "code",
   "execution_count": 3,
   "id": "1849d5c6",
   "metadata": {},
   "outputs": [],
   "source": [
    "cleaning = train.drop(['Name','Ticket'], axis=1)"
   ]
  },
  {
   "cell_type": "markdown",
   "id": "13f38174",
   "metadata": {},
   "source": [
    "Replace Sex with binary is_male 1 (yes) or female (0)"
   ]
  },
  {
   "cell_type": "code",
   "execution_count": null,
   "id": "4c0f8e1b",
   "metadata": {},
   "outputs": [],
   "source": [
    "cleaning['is_male'] = cleaning['Sex'].replace({'male':1, 'female': 0})\n",
    "cleaning.head()"
   ]
  },
  {
   "cell_type": "markdown",
   "id": "57d60a6e",
   "metadata": {},
   "source": [
    "drop old 'Sex' column"
   ]
  },
  {
   "cell_type": "code",
   "execution_count": null,
   "id": "1de4fd41",
   "metadata": {},
   "outputs": [],
   "source": [
    "cleaning.drop('Sex', axis=1, inplace=True)\n",
    "print(cleaning.head())"
   ]
  },
  {
   "cell_type": "markdown",
   "id": "67e78e9b",
   "metadata": {},
   "source": [
    "Create Age categories"
   ]
  },
  {
   "cell_type": "code",
   "execution_count": 4,
   "id": "ef2a6fef",
   "metadata": {},
   "outputs": [],
   "source": [
    "cleaning['Age'] = cleaning['Age'].dropna()\n",
    "cleaning['Child'] = cleaning['Age'].between(0, 16, inclusive='both')\n",
    "cleaning['Adult'] = cleaning['Age'].between(17, 45, inclusive='both')\n",
    "cleaning['Senior'] = cleaning['Age'].between(46, 100, inclusive='both')"
   ]
  },
  {
   "cell_type": "code",
   "execution_count": 12,
   "id": "8f7b14e5",
   "metadata": {},
   "outputs": [
    {
     "name": "stdout",
     "output_type": "stream",
     "text": [
      "    Age  Child  Adult  Senior\n",
      "0  22.0  False   True   False\n",
      "1  38.0  False   True   False\n",
      "2  26.0  False   True   False\n",
      "3  35.0  False   True   False\n",
      "4  35.0  False   True   False\n",
      "5   NaN  False  False   False\n",
      "6  54.0  False  False    True\n",
      "7   2.0   True  False   False\n",
      "8  27.0  False   True   False\n",
      "9  14.0   True  False   False\n"
     ]
    }
   ],
   "source": [
    "print(cleaning[['Age', 'Child', 'Adult', 'Senior']].head(10))"
   ]
  },
  {
   "cell_type": "code",
   "execution_count": 9,
   "id": "476b9f8a",
   "metadata": {},
   "outputs": [
    {
     "data": {
      "image/png": "[encoded data removed]",
      "text/plain": [
       "<Figure size 600x400 with 1 Axes>"
      ]
     },
     "metadata": {},
     "output_type": "display_data"
    }
   ],
   "source": [
    "import matplotlib.pyplot as plt\n",
    "def assign_age_group(row):\n",
    "    if row['Child']:\n",
    "        return 'Child'\n",
    "    elif row['Adult']:\n",
    "        return 'Adult'\n",
    "    elif row['Senior']:\n",
    "        return 'Senior'\n",
    "    return 'Unknown'\n",
    "\n",
    "cleaning['AgeGroup'] = cleaning.apply(assign_age_group, axis=1)\n",
    "\n",
    "# Group by AgeGroup and Survived\n",
    "survival_pct = (\n",
    "    cleaning.groupby('AgeGroup')['Survived']\n",
    "    .mean()\n",
    "    .sort_index()\n",
    "    * 100\n",
    ")\n",
    "\n",
    "# Plot\n",
    "survival_pct.plot(marker='o', figsize=(6, 4))\n",
    "plt.title('survival_pct')\n",
    "plt.ylabel('Percentage')\n",
    "plt.xlabel('Age Group')\n",
    "plt.grid(True)\n",
    "plt.tight_layout()\n",
    "plt.show()"
   ]
  },
  {
   "cell_type": "markdown",
   "id": "183e7a42",
   "metadata": {},
   "source": [
    "drop missing age rows from training model"
   ]
  },
  {
   "cell_type": "code",
   "execution_count": null,
   "id": "40c129af",
   "metadata": {},
   "outputs": [],
   "source": [
    "cleaning['Age'] = cleaning['Age'].fillna(0)\n",
    "cleaning = cleaning[cleaning['Age'] !=0]"
   ]
  },
  {
   "cell_type": "code",
   "execution_count": null,
   "id": "d50a54ec",
   "metadata": {},
   "outputs": [],
   "source": [
    "cleaning['norm_age'] = (cleaning['Age'] - cleaning['Age'].min()) / (cleaning['Age'].max() - cleaning['Age'].min())\n",
    "cleaning.head()\n"
   ]
  },
  {
   "cell_type": "code",
   "execution_count": null,
   "id": "59866f4d",
   "metadata": {},
   "outputs": [],
   "source": [
    "cleaning.drop('Age', axis=1, inplace=True)\n",
    "cleaning.head()"
   ]
  },
  {
   "cell_type": "code",
   "execution_count": null,
   "id": "560be3cc",
   "metadata": {},
   "outputs": [],
   "source": [
    "cleaning['emb_s'] = (cleaning['Embarked'] == 'S').astype(int)\n",
    "cleaning['emb_c'] = (cleaning['Embarked'] == 'C').astype(int)\n",
    "cleaning.head()\n"
   ]
  },
  {
   "cell_type": "code",
   "execution_count": null,
   "id": "8f989864",
   "metadata": {},
   "outputs": [],
   "source": [
    "cleaning.drop('Embarked', axis=1, inplace=True)"
   ]
  },
  {
   "cell_type": "code",
   "execution_count": null,
   "id": "a517a7f1",
   "metadata": {},
   "outputs": [],
   "source": [
    "cleaning = pd.concat([cleaning, pd.get_dummies(cleaning['Pclass'], prefix='Pclass')], axis=1)\n",
    "cleaning.head()"
   ]
  },
  {
   "cell_type": "markdown",
   "id": "d64fe699",
   "metadata": {},
   "source": [
    "Oops, need ints..."
   ]
  },
  {
   "cell_type": "code",
   "execution_count": null,
   "id": "61fa8753",
   "metadata": {},
   "outputs": [],
   "source": [
    "for col in ['Pclass_1','Pclass_2','Pclass_3']:\n",
    "    cleaning[col] = cleaning[col].astype(int)"
   ]
  },
  {
   "cell_type": "markdown",
   "id": "d4371d94",
   "metadata": {},
   "source": [
    "drop old pclass, and extra pclass_3 columns"
   ]
  },
  {
   "cell_type": "code",
   "execution_count": null,
   "id": "97ac325a",
   "metadata": {},
   "outputs": [],
   "source": [
    "cleaning = cleaning.drop(['Pclass'], axis=1)\n",
    "cleaning = cleaning.drop(['Pclass_3'], axis=1)  \n",
    "cleaning.head()"
   ]
  },
  {
   "cell_type": "code",
   "execution_count": null,
   "id": "d41a5878",
   "metadata": {},
   "outputs": [],
   "source": [
    "cleaning.to_csv('cleaned_train.csv', index=False)"
   ]
  },
  {
   "cell_type": "code",
   "execution_count": null,
   "id": "39110245",
   "metadata": {},
   "outputs": [],
   "source": [
    "test_female = cleaning[cleaning['is_male'] == 0]\n",
    "print(f\"female survival rate= {test_female['Survived'].mean() * 100:.2f}%\")"
   ]
  },
  {
   "cell_type": "code",
   "execution_count": null,
   "id": "73df71a0",
   "metadata": {},
   "outputs": [],
   "source": [
    "pc_1 = cleaning[cleaning['Pclass_1'] == 1]\n",
    "pc_2 = cleaning[cleaning['Pclass_2'] == 1]\n",
    "pc_3 = cleaning[\n",
    "    (cleaning['Pclass_2'] == 0) & (cleaning['Pclass_1'] == 0)\n",
    "    ]\n",
    "print(f\"pclass 1 survival rate= {pc_1['Survived'].mean() * 100:.2f}%\")\n",
    "print(f\"pclass 2 survival rate= {pc_2['Survived'].mean() * 100:.2f}%\")\n",
    "print(f\"pclass 3 survival rate= {pc_3['Survived'].mean() * 100:.2f}%\")"
   ]
  },
  {
   "cell_type": "code",
   "execution_count": null,
   "id": "ca531921",
   "metadata": {},
   "outputs": [],
   "source": [
    "m_pc_1 = pc_1['Fare'].mean()\n",
    "m_pc_2 = pc_2['Fare'].mean()\n",
    "m_pc_3 = pc_3['Fare'].mean()\n",
    "print(f\"pclass 1 mean fare= {m_pc_1:.2f}\")\n",
    "print(f\"pclass 2 mean fare= {m_pc_2:.2f}\")\n",
    "print(f\"pclass 3 mean fare= {m_pc_3:.2f}\")"
   ]
  },
  {
   "cell_type": "code",
   "execution_count": null,
   "id": "f337d1b0",
   "metadata": {},
   "outputs": [],
   "source": [
    "f_m_pc_1 = cleaning[(cleaning['Pclass_1'] == 1) & (cleaning['is_male'] == 0)]['Fare'].mean()\n",
    "f_m_pc_2 = cleaning[(cleaning['Pclass_2'] == 1) & (cleaning['is_male'] == 0)]['Fare'].mean()\n",
    "f_m_pc_3 = cleaning[\n",
    "    (cleaning['Pclass_2'] == 0) & (cleaning['Pclass_1'] == 0) & (cleaning['is_male'] == 0)\n",
    "    ]['Fare'].mean()\n",
    "\n",
    "print(f\"female pclass 1 mean fare= {f_m_pc_1:.2f}\")\n",
    "print(f\"female pclass 2 mean fare= {f_m_pc_2:.2f}\")\n",
    "print(f\"female pclass 3 mean fare= {f_m_pc_3:.2f}\")"
   ]
  },
  {
   "cell_type": "code",
   "execution_count": null,
   "id": "c730d881",
   "metadata": {},
   "outputs": [],
   "source": []
  },
  {
   "cell_type": "code",
   "execution_count": null,
   "id": "a8bf3941",
   "metadata": {},
   "outputs": [],
   "source": [
    "f_pc_1 = cleaning[\n",
    "    (cleaning['Pclass_1'] == 1) & (cleaning['is_male'] == 0)\n",
    "    ]\n",
    "f_pc_2 = cleaning[\n",
    "    (cleaning['Pclass_2'] == 1) & (cleaning['is_male'] == 0)\n",
    "    ]\n",
    "f_pc_3 = cleaning[\n",
    "    (cleaning['Pclass_2'] == 0) & (cleaning['Pclass_1'] == 0) & (cleaning['is_male'] == 0)\n",
    "    ]\n",
    "print(f\"females of pclass 1 survival rate= {f_pc_1['Survived'].mean() * 100:.2f}%\\n\")\n",
    "print(f\"females of pclass 2 survival rate= {f_pc_2['Survived'].mean() * 100:.2f}%\\n\")\n",
    "print(f\"females of pclass 3 survival rate= {f_pc_3['Survived'].mean() * 100:.2f}%\\n\")\n",
    "\n",
    "f_pc_1_fare = f_pc_1['Fare'].quantile([.10, 0.25, 0.5, 0.75, .90])\n",
    "f_pc_2_fare = f_pc_2['Fare'].quantile([.10, 0.25, 0.5, 0.75, .90])\n",
    "f_pc_3_fare = f_pc_3['Fare'].quantile([.10, 0.25, 0.5, 0.75, .90])\n",
    "print(f\"females of pclass 1 fare quantiles:\\n{f_pc_1_fare}\\n\")\n",
    "print(f\"females of pclass 2 fare quantiles:\\n{f_pc_2_fare}\\n\")\n",
    "print(f\"females of pclass 3 fare quantiles:\\n{f_pc_3_fare}\\n\")"
   ]
  },
  {
   "cell_type": "code",
   "execution_count": null,
   "id": "42b4d861",
   "metadata": {},
   "outputs": [],
   "source": [
    "qs = cleaning['Fare'].quantile([.10, 0.25, 0.5, 0.75, .90])\n",
    "print(f\"Fare quantiles:\\n{qs}\")"
   ]
  },
  {
   "cell_type": "code",
   "execution_count": null,
   "id": "f09ff650",
   "metadata": {},
   "outputs": [],
   "source": [
    "import numpy as np\n",
    "import matplotlib.pyplot as plt\n",
    "cleaning = train.copy()\n",
    "cleaning['fare_pct'] = cleaning.groupby('Pclass')['Fare'].rank(pct=True)\n",
    "bins = np.linspace(0, 1, 11)\n",
    "decile_labels = (bins[:-1] + bins[1:]) / 2  \n",
    "cleaning['decile'] = pd.cut(cleaning['fare_pct'], bins=bins, labels=decile_labels, include_lowest=True)\n",
    "\n",
    "surv_rates = (\n",
    "    cleaning.groupby(['Pclass', 'decile'])['Survived']\n",
    "      .mean()\n",
    "      .reset_index()\n",
    ")\n",
    "\n",
    "plt.figure(figsize=(8,5))\n",
    "for cls in [1, 2, 3]:\n",
    "    sub = surv_rates[surv_rates['Pclass'] == cls]\n",
    "    plt.plot(sub['decile'].astype(float) * 100, sub['Survived'], marker='o', label=f'Class {cls}')\n",
    "\n",
    "plt.title('Survival Rate by Fare Decile Within Each Class')\n",
    "plt.xlabel('Fare Percentile Within Class (%)')\n",
    "plt.ylabel('Survival Rate')\n",
    "plt.legend()\n",
    "plt.grid(True)\n",
    "plt.tight_layout()\n",
    "plt.show()\n"
   ]
  },
  {
   "cell_type": "code",
   "execution_count": null,
   "id": "99f85cb0",
   "metadata": {},
   "outputs": [],
   "source": [
    "plt.figure(figsize=(8,5))\n",
    "colors = {1: 'blue', 2: 'orange', 3: 'green'}\n",
    "for cls in [1,2,3]:\n",
    "    sub = surv_rates[surv_rates['Pclass']==cls]\n",
    "    x = sub['decile'].astype(float)*100\n",
    "    y = sub['Survived']\n",
    "    # raw points\n",
    "    plt.plot(x, y, 'o', label=f'Class {cls} points')\n",
    "    \n",
    "    # fit a 3rd-degree polynomial trend line\n",
    "    coeffs = np.polyfit(x, y, deg=3)\n",
    "    poly   = np.poly1d(coeffs)\n",
    "    x_line = np.linspace(x.min(), x.max(), 200)\n",
    "    plt.plot(x_line, poly(x_line), '--', label=f'Class {cls} trend')\n",
    "    plt.fill_between(x_line, poly(x_line), alpha=0.1, color=colors[cls])\n",
    "\n",
    "plt.xlabel('Fare Percentile Within Class (%)')\n",
    "plt.ylabel('Survival Rate')\n",
    "plt.title('Survival Rate by Fare Decile with Trend Lines')\n",
    "plt.legend(loc='center left', bbox_to_anchor=(1, 0.5))\n",
    "plt.grid(True, linewidth=1.5)\n",
    "plt.show()"
   ]
  },
  {
   "cell_type": "code",
   "execution_count": null,
   "id": "f24f1dca",
   "metadata": {},
   "outputs": [],
   "source": [
    "cleaning = train.copy()\n",
    "cleaning['Age_pct'] = cleaning.groupby('Pclass')['Age'].rank(pct=True)\n",
    "bins = np.linspace(0, 1, 11)\n",
    "decile_labels = (bins[:-1] + bins[1:]) / 2  \n",
    "cleaning['decile'] = pd.cut(cleaning['Age_pct'], bins=bins, labels=decile_labels, include_lowest=True)\n",
    "\n",
    "surv_rates = (\n",
    "    cleaning.groupby(['Pclass', 'decile'])['Survived']\n",
    "      .mean()\n",
    "      .reset_index()\n",
    ")\n",
    "\n",
    "plt.figure(figsize=(8,5))\n",
    "for cls in [1, 2, 3]:\n",
    "    sub = surv_rates[surv_rates['Pclass'] == cls]\n",
    "    plt.plot(sub['decile'].astype(float) * 100, sub['Survived'], marker='o', label=f'Class {cls}')\n",
    "\n",
    "plt.title('Survival Rate by Age Decile Within Each Class')\n",
    "plt.xlabel('Age Percentile Within Class (%)')\n",
    "plt.ylabel('Survival Rate')\n",
    "plt.legend()\n",
    "plt.grid(True)\n",
    "plt.tight_layout()\n",
    "plt.show()"
   ]
  },
  {
   "cell_type": "code",
   "execution_count": null,
   "id": "82856fc6",
   "metadata": {},
   "outputs": [],
   "source": [
    "missing_age = train[train['Age'].isna()]\n",
    "print(f\"Number of passengers with missing age: {len(missing_age)}\")\n",
    "print(f\"total passengers: {len(train)}\")"
   ]
  },
  {
   "cell_type": "code",
   "execution_count": null,
   "id": "90a8917b",
   "metadata": {},
   "outputs": [],
   "source": [
    "pc_1_age_missing = train[\n",
    "    (train['Pclass'] == 1) & (train['Age'].isna())\n",
    "    ]\n",
    "pc_2_age_missing = train[\n",
    "    (train['Pclass'] == 2) & (train['Age'].isna())\n",
    "    ]\n",
    "pc_3_age_missing= train[\n",
    "    (train['Pclass'] == 3) & (train['Age'].isna())\n",
    "    ]\n",
    "print(f\"missing age count by class. \\npClas1 = {len(pc_1_age_missing)}\\n pClass2 = {len(pc_2_age_missing)}\\n pClass3 = {len(pc_3_age_missing)} \\n\")\n",
    "print(f\"missing men count by class. \\npClas1 = {(pc_1_age_missing['Sex']=='male').sum()} \\npClass2 = {(pc_2_age_missing['Sex']=='male').sum()} \\npClass3 = {(pc_3_age_missing['Sex']=='male').sum()} \\n\")\n"
   ]
  },
  {
   "cell_type": "code",
   "execution_count": null,
   "id": "42976869",
   "metadata": {},
   "outputs": [],
   "source": [
    "train['cabin_height'] = train['Cabin'].str.extract(r'([A-Z])', expand=False)\n",
    "\n",
    "for cabin in train['cabin_height'].unique():\n",
    "    if cabin is not None:\n",
    "        print(f\"cabin {cabin} count = {len(train[train['cabin_height'] == cabin])}, survived = {train[train['cabin_height'] == cabin]['Survived'].mean() * 100:.2f}%\")\n"
   ]
  }
 ],
 "metadata": {
  "kernelspec": {
   "display_name": ".venv",
   "language": "python",
   "name": "python3"
  },
  "language_info": {
   "codemirror_mode": {
    "name": "ipython",
    "version": 3
   },
   "file_extension": ".py",
   "mimetype": "text/x-python",
   "name": "python",
   "nbconvert_exporter": "python",
   "pygments_lexer": "ipython3",
   "version": "3.12.6"
  }
 },
 "nbformat": 4,
 "nbformat_minor": 5
}
