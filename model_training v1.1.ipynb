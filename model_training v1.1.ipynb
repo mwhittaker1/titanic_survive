{
 "cells": [
  {
   "cell_type": "markdown",
   "id": "8aac0649",
   "metadata": {},
   "source": [
    "Model training!"
   ]
  },
  {
   "cell_type": "code",
   "execution_count": 2,
   "id": "ffedf79e",
   "metadata": {},
   "outputs": [
    {
     "data": {
      "text/html": [
       "<div>\n",
       "<style scoped>\n",
       "    .dataframe tbody tr th:only-of-type {\n",
       "        vertical-align: middle;\n",
       "    }\n",
       "\n",
       "    .dataframe tbody tr th {\n",
       "        vertical-align: top;\n",
       "    }\n",
       "\n",
       "    .dataframe thead th {\n",
       "        text-align: right;\n",
       "    }\n",
       "</style>\n",
       "<table border=\"1\" class=\"dataframe\">\n",
       "  <thead>\n",
       "    <tr style=\"text-align: right;\">\n",
       "      <th></th>\n",
       "      <th>PassengerId</th>\n",
       "      <th>Survived</th>\n",
       "      <th>SibSp</th>\n",
       "      <th>Parch</th>\n",
       "      <th>Fare</th>\n",
       "      <th>Cabin</th>\n",
       "      <th>is_male</th>\n",
       "      <th>norm_age</th>\n",
       "      <th>emb_s</th>\n",
       "      <th>emb_c</th>\n",
       "      <th>Pclass_1</th>\n",
       "      <th>Pclass_2</th>\n",
       "    </tr>\n",
       "  </thead>\n",
       "  <tbody>\n",
       "    <tr>\n",
       "      <th>0</th>\n",
       "      <td>1</td>\n",
       "      <td>0</td>\n",
       "      <td>1</td>\n",
       "      <td>0</td>\n",
       "      <td>7.2500</td>\n",
       "      <td>NaN</td>\n",
       "      <td>1</td>\n",
       "      <td>0.271174</td>\n",
       "      <td>1</td>\n",
       "      <td>0</td>\n",
       "      <td>0</td>\n",
       "      <td>0</td>\n",
       "    </tr>\n",
       "    <tr>\n",
       "      <th>1</th>\n",
       "      <td>2</td>\n",
       "      <td>1</td>\n",
       "      <td>1</td>\n",
       "      <td>0</td>\n",
       "      <td>71.2833</td>\n",
       "      <td>C85</td>\n",
       "      <td>0</td>\n",
       "      <td>0.472229</td>\n",
       "      <td>0</td>\n",
       "      <td>1</td>\n",
       "      <td>1</td>\n",
       "      <td>0</td>\n",
       "    </tr>\n",
       "    <tr>\n",
       "      <th>2</th>\n",
       "      <td>3</td>\n",
       "      <td>1</td>\n",
       "      <td>0</td>\n",
       "      <td>0</td>\n",
       "      <td>7.9250</td>\n",
       "      <td>NaN</td>\n",
       "      <td>0</td>\n",
       "      <td>0.321438</td>\n",
       "      <td>1</td>\n",
       "      <td>0</td>\n",
       "      <td>0</td>\n",
       "      <td>0</td>\n",
       "    </tr>\n",
       "    <tr>\n",
       "      <th>3</th>\n",
       "      <td>4</td>\n",
       "      <td>1</td>\n",
       "      <td>1</td>\n",
       "      <td>0</td>\n",
       "      <td>53.1000</td>\n",
       "      <td>C123</td>\n",
       "      <td>0</td>\n",
       "      <td>0.434531</td>\n",
       "      <td>1</td>\n",
       "      <td>0</td>\n",
       "      <td>1</td>\n",
       "      <td>0</td>\n",
       "    </tr>\n",
       "    <tr>\n",
       "      <th>4</th>\n",
       "      <td>5</td>\n",
       "      <td>0</td>\n",
       "      <td>0</td>\n",
       "      <td>0</td>\n",
       "      <td>8.0500</td>\n",
       "      <td>NaN</td>\n",
       "      <td>1</td>\n",
       "      <td>0.434531</td>\n",
       "      <td>1</td>\n",
       "      <td>0</td>\n",
       "      <td>0</td>\n",
       "      <td>0</td>\n",
       "    </tr>\n",
       "  </tbody>\n",
       "</table>\n",
       "</div>"
      ],
      "text/plain": [
       "   PassengerId  Survived  SibSp  Parch     Fare Cabin  is_male  norm_age  \\\n",
       "0            1         0      1      0   7.2500   NaN        1  0.271174   \n",
       "1            2         1      1      0  71.2833   C85        0  0.472229   \n",
       "2            3         1      0      0   7.9250   NaN        0  0.321438   \n",
       "3            4         1      1      0  53.1000  C123        0  0.434531   \n",
       "4            5         0      0      0   8.0500   NaN        1  0.434531   \n",
       "\n",
       "   emb_s  emb_c  Pclass_1  Pclass_2  \n",
       "0      1      0         0         0  \n",
       "1      0      1         1         0  \n",
       "2      1      0         0         0  \n",
       "3      1      0         1         0  \n",
       "4      1      0         0         0  "
      ]
     },
     "execution_count": 2,
     "metadata": {},
     "output_type": "execute_result"
    }
   ],
   "source": [
    "import pandas as pd\n",
    "import numpy as np\n",
    "train = pd.read_csv('cleaned_train.csv')\n",
    "train.head()"
   ]
  },
  {
   "cell_type": "code",
   "execution_count": 3,
   "id": "4befff40",
   "metadata": {},
   "outputs": [],
   "source": [
    "from fastai.tabular.all import (\n",
    "    TabularDataLoaders, RandomSplitter,\n",
    "    FillMissing, Categorify, Normalize, range_of, RegressionBlock\n",
    ")\n",
    "train['Survived'] = train['Survived'].astype(float)\n",
    "train['Fare'] = train['Fare'].fillna(train['Fare'].median())\n",
    "train['Fare_log'] = np.log1p(train['Fare'])\n",
    "\n",
    "procs = [Categorify, FillMissing, Normalize]\n",
    "path = '.'     \n",
    "cat_names  = ['SibSp','Parch','is_male']\n",
    "cont_names = ['Fare','norm_age','emb_s','emb_c','Pclass_1','Pclass_2']\n",
    "splits = RandomSplitter(valid_pct=0.2, seed=42)\n",
    "\n",
    "dls = TabularDataLoaders.from_df(\n",
    "    procs=procs,\n",
    "    df=train,\n",
    "    path=\".\",\n",
    "    cat_names=cat_names,\n",
    "    cont_names=cont_names,\n",
    "    y_names='Survived',\n",
    "    y_block=RegressionBlock(),\n",
    "    splits=splits\n",
    ")"
   ]
  },
  {
   "cell_type": "code",
   "execution_count": 4,
   "id": "83462481",
   "metadata": {},
   "outputs": [],
   "source": [
    "from fastai.tabular.all import MSELossFlat, rmse, mae, R2Score, tabular_learner\n",
    "\n",
    "learn = tabular_learner(\n",
    "    dls,\n",
    "    loss_func=MSELossFlat(),\n",
    "    metrics=[rmse, mae, R2Score()] \n",
    ")"
   ]
  },
  {
   "cell_type": "code",
   "execution_count": 5,
   "id": "0757fccd",
   "metadata": {},
   "outputs": [
    {
     "data": {
      "text/html": [
       "\n",
       "<style>\n",
       "    /* Turns off some styling */\n",
       "    progress {\n",
       "        /* gets rid of default border in Firefox and Opera. */\n",
       "        border: none;\n",
       "        /* Needs to be in here for Safari polyfill so background images work as expected. */\n",
       "        background-size: auto;\n",
       "    }\n",
       "    progress:not([value]), progress:not([value])::-webkit-progress-bar {\n",
       "        background: repeating-linear-gradient(45deg, #7e7e7e, #7e7e7e 10px, #5c5c5c 10px, #5c5c5c 20px);\n",
       "    }\n",
       "    .progress-bar-interrupted, .progress-bar-interrupted::-webkit-progress-bar {\n",
       "        background: #F44336;\n",
       "    }\n",
       "</style>\n"
      ],
      "text/plain": [
       "<IPython.core.display.HTML object>"
      ]
     },
     "metadata": {},
     "output_type": "display_data"
    },
    {
     "data": {
      "text/html": [
       "<table border=\"1\" class=\"dataframe\">\n",
       "  <thead>\n",
       "    <tr style=\"text-align: left;\">\n",
       "      <th>epoch</th>\n",
       "      <th>train_loss</th>\n",
       "      <th>valid_loss</th>\n",
       "      <th>_rmse</th>\n",
       "      <th>mae</th>\n",
       "      <th>r2_score</th>\n",
       "      <th>time</th>\n",
       "    </tr>\n",
       "  </thead>\n",
       "  <tbody>\n",
       "    <tr>\n",
       "      <td>0</td>\n",
       "      <td>0.976784</td>\n",
       "      <td>0.400818</td>\n",
       "      <td>0.633102</td>\n",
       "      <td>0.459218</td>\n",
       "      <td>-0.619009</td>\n",
       "      <td>00:00</td>\n",
       "    </tr>\n",
       "    <tr>\n",
       "      <td>1</td>\n",
       "      <td>0.713986</td>\n",
       "      <td>0.298699</td>\n",
       "      <td>0.546534</td>\n",
       "      <td>0.441392</td>\n",
       "      <td>-0.206523</td>\n",
       "      <td>00:00</td>\n",
       "    </tr>\n",
       "    <tr>\n",
       "      <td>2</td>\n",
       "      <td>0.576238</td>\n",
       "      <td>0.267232</td>\n",
       "      <td>0.516945</td>\n",
       "      <td>0.450029</td>\n",
       "      <td>-0.079421</td>\n",
       "      <td>00:00</td>\n",
       "    </tr>\n",
       "    <tr>\n",
       "      <td>3</td>\n",
       "      <td>0.494860</td>\n",
       "      <td>0.247907</td>\n",
       "      <td>0.497903</td>\n",
       "      <td>0.386565</td>\n",
       "      <td>-0.001361</td>\n",
       "      <td>00:00</td>\n",
       "    </tr>\n",
       "    <tr>\n",
       "      <td>4</td>\n",
       "      <td>0.442424</td>\n",
       "      <td>0.267098</td>\n",
       "      <td>0.516815</td>\n",
       "      <td>0.408110</td>\n",
       "      <td>-0.078879</td>\n",
       "      <td>00:00</td>\n",
       "    </tr>\n",
       "    <tr>\n",
       "      <td>5</td>\n",
       "      <td>0.391972</td>\n",
       "      <td>0.267074</td>\n",
       "      <td>0.516792</td>\n",
       "      <td>0.389897</td>\n",
       "      <td>-0.078781</td>\n",
       "      <td>00:00</td>\n",
       "    </tr>\n",
       "    <tr>\n",
       "      <td>6</td>\n",
       "      <td>0.363191</td>\n",
       "      <td>0.272644</td>\n",
       "      <td>0.522153</td>\n",
       "      <td>0.388252</td>\n",
       "      <td>-0.101279</td>\n",
       "      <td>00:00</td>\n",
       "    </tr>\n",
       "    <tr>\n",
       "      <td>7</td>\n",
       "      <td>0.336725</td>\n",
       "      <td>0.278465</td>\n",
       "      <td>0.527697</td>\n",
       "      <td>0.391838</td>\n",
       "      <td>-0.124791</td>\n",
       "      <td>00:00</td>\n",
       "    </tr>\n",
       "  </tbody>\n",
       "</table>"
      ],
      "text/plain": [
       "<IPython.core.display.HTML object>"
      ]
     },
     "metadata": {},
     "output_type": "display_data"
    }
   ],
   "source": [
    "from fastai.tabular.all import tabular_learner, accuracy\n",
    "\n",
    "learn.fit_one_cycle(8)"
   ]
  },
  {
   "cell_type": "code",
   "execution_count": 25,
   "id": "a590c79f",
   "metadata": {},
   "outputs": [
    {
     "data": {
      "text/html": [
       "\n",
       "<style>\n",
       "    /* Turns off some styling */\n",
       "    progress {\n",
       "        /* gets rid of default border in Firefox and Opera. */\n",
       "        border: none;\n",
       "        /* Needs to be in here for Safari polyfill so background images work as expected. */\n",
       "        background-size: auto;\n",
       "    }\n",
       "    progress:not([value]), progress:not([value])::-webkit-progress-bar {\n",
       "        background: repeating-linear-gradient(45deg, #7e7e7e, #7e7e7e 10px, #5c5c5c 10px, #5c5c5c 20px);\n",
       "    }\n",
       "    .progress-bar-interrupted, .progress-bar-interrupted::-webkit-progress-bar {\n",
       "        background: #F44336;\n",
       "    }\n",
       "</style>\n"
      ],
      "text/plain": [
       "<IPython.core.display.HTML object>"
      ]
     },
     "metadata": {},
     "output_type": "display_data"
    },
    {
     "data": {
      "text/html": [],
      "text/plain": [
       "<IPython.core.display.HTML object>"
      ]
     },
     "metadata": {},
     "output_type": "display_data"
    },
    {
     "name": "stderr",
     "output_type": "stream",
     "text": [
      "c:\\Code\\Local Code\\titanic_survive\\.venv\\Lib\\site-packages\\sklearn\\metrics\\_classification.py:1706: UndefinedMetricWarning: Precision is ill-defined and being set to 0.0 due to no predicted samples. Use `zero_division` parameter to control this behavior.\n",
      "  _warn_prf(average, modifier, f\"{metric.capitalize()} is\", result.shape[0])\n"
     ]
    },
    {
     "name": "stdout",
     "output_type": "stream",
     "text": [
      "Validation accuracy:  57.04%\n",
      "Validation error rate: 42.96%\n"
     ]
    },
    {
     "data": {
      "text/html": [
       "\n",
       "<style>\n",
       "    /* Turns off some styling */\n",
       "    progress {\n",
       "        /* gets rid of default border in Firefox and Opera. */\n",
       "        border: none;\n",
       "        /* Needs to be in here for Safari polyfill so background images work as expected. */\n",
       "        background-size: auto;\n",
       "    }\n",
       "    progress:not([value]), progress:not([value])::-webkit-progress-bar {\n",
       "        background: repeating-linear-gradient(45deg, #7e7e7e, #7e7e7e 10px, #5c5c5c 10px, #5c5c5c 20px);\n",
       "    }\n",
       "    .progress-bar-interrupted, .progress-bar-interrupted::-webkit-progress-bar {\n",
       "        background: #F44336;\n",
       "    }\n",
       "</style>\n"
      ],
      "text/plain": [
       "<IPython.core.display.HTML object>"
      ]
     },
     "metadata": {},
     "output_type": "display_data"
    },
    {
     "data": {
      "text/html": [],
      "text/plain": [
       "<IPython.core.display.HTML object>"
      ]
     },
     "metadata": {},
     "output_type": "display_data"
    },
    {
     "name": "stderr",
     "output_type": "stream",
     "text": [
      "c:\\Code\\Local Code\\titanic_survive\\.venv\\Lib\\site-packages\\sklearn\\metrics\\_classification.py:1706: UndefinedMetricWarning: Precision is ill-defined and being set to 0.0 due to no predicted samples. Use `zero_division` parameter to control this behavior.\n",
      "  _warn_prf(average, modifier, f\"{metric.capitalize()} is\", result.shape[0])\n"
     ]
    },
    {
     "ename": "AttributeError",
     "evalue": "vocab",
     "output_type": "error",
     "traceback": [
      "\u001b[31m---------------------------------------------------------------------------\u001b[39m",
      "\u001b[31mAttributeError\u001b[39m                            Traceback (most recent call last)",
      "\u001b[36mCell\u001b[39m\u001b[36m \u001b[39m\u001b[32mIn[25]\u001b[39m\u001b[32m, line 9\u001b[39m\n\u001b[32m      7\u001b[39m \u001b[38;5;28mprint\u001b[39m(\u001b[33mf\u001b[39m\u001b[33m\"\u001b[39m\u001b[33mValidation error rate: \u001b[39m\u001b[38;5;132;01m{\u001b[39;00m(\u001b[32m1\u001b[39m-accuracy)*\u001b[32m100\u001b[39m\u001b[38;5;132;01m:\u001b[39;00m\u001b[33m.2f\u001b[39m\u001b[38;5;132;01m}\u001b[39;00m\u001b[33m%\u001b[39m\u001b[33m\"\u001b[39m)\n\u001b[32m      8\u001b[39m learn.recorder.plot_loss()\n\u001b[32m----> \u001b[39m\u001b[32m9\u001b[39m interp = \u001b[43mClassificationInterpretation\u001b[49m\u001b[43m.\u001b[49m\u001b[43mfrom_learner\u001b[49m\u001b[43m(\u001b[49m\u001b[43mlearn\u001b[49m\u001b[43m)\u001b[49m\n\u001b[32m     10\u001b[39m interp.plot_confusion_matrix(figsize=(\u001b[32m6\u001b[39m,\u001b[32m6\u001b[39m), dpi=\u001b[32m100\u001b[39m)\n",
      "\u001b[36mFile \u001b[39m\u001b[32mc:\\Code\\Local Code\\titanic_survive\\.venv\\Lib\\site-packages\\fastai\\interpret.py:56\u001b[39m, in \u001b[36mInterpretation.from_learner\u001b[39m\u001b[34m(cls, learn, ds_idx, dl, act)\u001b[39m\n\u001b[32m     53\u001b[39m \u001b[38;5;28;01mif\u001b[39;00m dl \u001b[38;5;129;01mis\u001b[39;00m \u001b[38;5;28;01mNone\u001b[39;00m: dl = learn.dls[ds_idx].new(shuffle=\u001b[38;5;28;01mFalse\u001b[39;00m, drop_last=\u001b[38;5;28;01mFalse\u001b[39;00m)\n\u001b[32m     54\u001b[39m _,_,losses = learn.get_preds(dl=dl, with_input=\u001b[38;5;28;01mFalse\u001b[39;00m, with_loss=\u001b[38;5;28;01mTrue\u001b[39;00m, with_decoded=\u001b[38;5;28;01mFalse\u001b[39;00m,\n\u001b[32m     55\u001b[39m                              with_preds=\u001b[38;5;28;01mFalse\u001b[39;00m, with_targs=\u001b[38;5;28;01mFalse\u001b[39;00m, act=act)\n\u001b[32m---> \u001b[39m\u001b[32m56\u001b[39m \u001b[38;5;28;01mreturn\u001b[39;00m \u001b[38;5;28;43mcls\u001b[39;49m\u001b[43m(\u001b[49m\u001b[43mlearn\u001b[49m\u001b[43m,\u001b[49m\u001b[43m \u001b[49m\u001b[43mdl\u001b[49m\u001b[43m,\u001b[49m\u001b[43m \u001b[49m\u001b[43mlosses\u001b[49m\u001b[43m,\u001b[49m\u001b[43m \u001b[49m\u001b[43mact\u001b[49m\u001b[43m)\u001b[49m\n",
      "\u001b[36mFile \u001b[39m\u001b[32mc:\\Code\\Local Code\\titanic_survive\\.venv\\Lib\\site-packages\\fastai\\interpret.py:110\u001b[39m, in \u001b[36mClassificationInterpretation.__init__\u001b[39m\u001b[34m(self, learn, dl, losses, act)\u001b[39m\n\u001b[32m    103\u001b[39m \u001b[38;5;28;01mdef\u001b[39;00m\u001b[38;5;250m \u001b[39m\u001b[34m__init__\u001b[39m(\u001b[38;5;28mself\u001b[39m, \n\u001b[32m    104\u001b[39m     learn:Learner, \n\u001b[32m    105\u001b[39m     dl:DataLoader, \u001b[38;5;66;03m# `DataLoader` to run inference over\u001b[39;00m\n\u001b[32m    106\u001b[39m     losses:TensorBase, \u001b[38;5;66;03m# Losses calculated from `dl`\u001b[39;00m\n\u001b[32m    107\u001b[39m     act=\u001b[38;5;28;01mNone\u001b[39;00m \u001b[38;5;66;03m# Activation function for prediction\u001b[39;00m\n\u001b[32m    108\u001b[39m ):\n\u001b[32m    109\u001b[39m     \u001b[38;5;28msuper\u001b[39m().\u001b[34m__init__\u001b[39m(learn, dl, losses, act)\n\u001b[32m--> \u001b[39m\u001b[32m110\u001b[39m     \u001b[38;5;28mself\u001b[39m.vocab = \u001b[38;5;28;43mself\u001b[39;49m\u001b[43m.\u001b[49m\u001b[43mdl\u001b[49m\u001b[43m.\u001b[49m\u001b[43mvocab\u001b[49m\n\u001b[32m    111\u001b[39m     \u001b[38;5;28;01mif\u001b[39;00m is_listy(\u001b[38;5;28mself\u001b[39m.vocab): \u001b[38;5;28mself\u001b[39m.vocab = \u001b[38;5;28mself\u001b[39m.vocab[-\u001b[32m1\u001b[39m]\n",
      "\u001b[36mFile \u001b[39m\u001b[32mc:\\Code\\Local Code\\titanic_survive\\.venv\\Lib\\site-packages\\fastcore\\basics.py:536\u001b[39m, in \u001b[36mGetAttr.__getattr__\u001b[39m\u001b[34m(self, k)\u001b[39m\n\u001b[32m    534\u001b[39m \u001b[38;5;28;01mif\u001b[39;00m \u001b[38;5;28mself\u001b[39m._component_attr_filter(k):\n\u001b[32m    535\u001b[39m     attr = \u001b[38;5;28mgetattr\u001b[39m(\u001b[38;5;28mself\u001b[39m,\u001b[38;5;28mself\u001b[39m._default,\u001b[38;5;28;01mNone\u001b[39;00m)\n\u001b[32m--> \u001b[39m\u001b[32m536\u001b[39m     \u001b[38;5;28;01mif\u001b[39;00m attr \u001b[38;5;129;01mis\u001b[39;00m \u001b[38;5;129;01mnot\u001b[39;00m \u001b[38;5;28;01mNone\u001b[39;00m: \u001b[38;5;28;01mreturn\u001b[39;00m \u001b[38;5;28;43mgetattr\u001b[39;49m\u001b[43m(\u001b[49m\u001b[43mattr\u001b[49m\u001b[43m,\u001b[49m\u001b[43mk\u001b[49m\u001b[43m)\u001b[49m\n\u001b[32m    537\u001b[39m \u001b[38;5;28;01mraise\u001b[39;00m \u001b[38;5;167;01mAttributeError\u001b[39;00m(k)\n",
      "\u001b[36mFile \u001b[39m\u001b[32mc:\\Code\\Local Code\\titanic_survive\\.venv\\Lib\\site-packages\\fastcore\\basics.py:536\u001b[39m, in \u001b[36mGetAttr.__getattr__\u001b[39m\u001b[34m(self, k)\u001b[39m\n\u001b[32m    534\u001b[39m \u001b[38;5;28;01mif\u001b[39;00m \u001b[38;5;28mself\u001b[39m._component_attr_filter(k):\n\u001b[32m    535\u001b[39m     attr = \u001b[38;5;28mgetattr\u001b[39m(\u001b[38;5;28mself\u001b[39m,\u001b[38;5;28mself\u001b[39m._default,\u001b[38;5;28;01mNone\u001b[39;00m)\n\u001b[32m--> \u001b[39m\u001b[32m536\u001b[39m     \u001b[38;5;28;01mif\u001b[39;00m attr \u001b[38;5;129;01mis\u001b[39;00m \u001b[38;5;129;01mnot\u001b[39;00m \u001b[38;5;28;01mNone\u001b[39;00m: \u001b[38;5;28;01mreturn\u001b[39;00m \u001b[38;5;28;43mgetattr\u001b[39;49m\u001b[43m(\u001b[49m\u001b[43mattr\u001b[49m\u001b[43m,\u001b[49m\u001b[43mk\u001b[49m\u001b[43m)\u001b[49m\n\u001b[32m    537\u001b[39m \u001b[38;5;28;01mraise\u001b[39;00m \u001b[38;5;167;01mAttributeError\u001b[39;00m(k)\n",
      "\u001b[36mFile \u001b[39m\u001b[32mc:\\Code\\Local Code\\titanic_survive\\.venv\\Lib\\site-packages\\fasttransform\\transform.py:252\u001b[39m, in \u001b[36mPipeline.__getattr__\u001b[39m\u001b[34m(self, k)\u001b[39m\n\u001b[32m--> \u001b[39m\u001b[32m252\u001b[39m \u001b[38;5;28;01mdef\u001b[39;00m\u001b[38;5;250m \u001b[39m\u001b[34m__getattr__\u001b[39m(\u001b[38;5;28mself\u001b[39m,k): \u001b[38;5;28;01mreturn\u001b[39;00m \u001b[43mgather_attrs\u001b[49m\u001b[43m(\u001b[49m\u001b[38;5;28;43mself\u001b[39;49m\u001b[43m,\u001b[49m\u001b[43m \u001b[49m\u001b[43mk\u001b[49m\u001b[43m,\u001b[49m\u001b[43m \u001b[49m\u001b[33;43m'\u001b[39;49m\u001b[33;43mfs\u001b[39;49m\u001b[33;43m'\u001b[39;49m\u001b[43m)\u001b[49m\n",
      "\u001b[36mFile \u001b[39m\u001b[32mc:\\Code\\Local Code\\titanic_survive\\.venv\\Lib\\site-packages\\fasttransform\\transform.py:213\u001b[39m, in \u001b[36mgather_attrs\u001b[39m\u001b[34m(o, k, nm)\u001b[39m\n\u001b[32m    211\u001b[39m att = \u001b[38;5;28mgetattr\u001b[39m(o,nm)\n\u001b[32m    212\u001b[39m res = [t \u001b[38;5;28;01mfor\u001b[39;00m t \u001b[38;5;129;01min\u001b[39;00m att.attrgot(k) \u001b[38;5;28;01mif\u001b[39;00m t \u001b[38;5;129;01mis\u001b[39;00m \u001b[38;5;129;01mnot\u001b[39;00m \u001b[38;5;28;01mNone\u001b[39;00m]\n\u001b[32m--> \u001b[39m\u001b[32m213\u001b[39m \u001b[38;5;28;01mif\u001b[39;00m \u001b[38;5;129;01mnot\u001b[39;00m res: \u001b[38;5;28;01mraise\u001b[39;00m \u001b[38;5;167;01mAttributeError\u001b[39;00m(k)\n\u001b[32m    214\u001b[39m \u001b[38;5;28;01mreturn\u001b[39;00m res[\u001b[32m0\u001b[39m] \u001b[38;5;28;01mif\u001b[39;00m \u001b[38;5;28mlen\u001b[39m(res)==\u001b[32m1\u001b[39m \u001b[38;5;28;01melse\u001b[39;00m L(res)\n",
      "\u001b[31mAttributeError\u001b[39m: vocab"
     ]
    },
    {
     "data": {
      "image/png": "[encoded data removed]",
      "text/plain": [
       "<Figure size 640x480 with 1 Axes>"
      ]
     },
     "metadata": {},
     "output_type": "display_data"
    }
   ],
   "source": [
    "from fastai.tabular.all import ClassificationInterpretation\n",
    "\n",
    "res = learn.validate()\n",
    "valid_loss, accuracy = res[0], res[1]\n",
    "\n",
    "print(f\"Validation accuracy:  {accuracy*100:.2f}%\")\n",
    "print(f\"Validation error rate: {(1-accuracy)*100:.2f}%\")\n",
    "learn.recorder.plot_loss()\n",
    "interp = ClassificationInterpretation.from_learner(learn)\n",
    "interp.plot_confusion_matrix(figsize=(6,6), dpi=100)"
   ]
  }
 ],
 "metadata": {
  "kernelspec": {
   "display_name": ".venv",
   "language": "python",
   "name": "python3"
  },
  "language_info": {
   "codemirror_mode": {
    "name": "ipython",
    "version": 3
   },
   "file_extension": ".py",
   "mimetype": "text/x-python",
   "name": "python",
   "nbconvert_exporter": "python",
   "pygments_lexer": "ipython3",
   "version": "3.12.6"
  }
 },
 "nbformat": 4,
 "nbformat_minor": 5
}
