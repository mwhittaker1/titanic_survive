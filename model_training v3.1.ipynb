{
 "cells": [
  {
   "cell_type": "markdown",
   "id": "8aac0649",
   "metadata": {},
   "source": [
    "Model training!"
   ]
  },
  {
   "cell_type": "code",
   "execution_count": 1,
   "id": "ffedf79e",
   "metadata": {},
   "outputs": [
    {
     "name": "stdout",
     "output_type": "stream",
     "text": [
      "x_names: ['Sex', 'Pclass', 'Embarked', 'class_x_sex', 'SibSp', 'Parch', 'Fare_log', 'Age']\n",
      "y_names: ['Survived']\n"
     ]
    }
   ],
   "source": [
    "import pandas as pd\n",
    "import numpy as np\n",
    "from fastai.tabular.all import *\n",
    "\n",
    "def modify_data():\n",
    "    df = pd.read_csv('train.csv')\n",
    "    df.dropna(subset=['Age'], inplace=True)\n",
    "    df['Survived'] = df['Survived'].astype('category')\n",
    "    df['class_x_sex'] = df['Pclass'].astype(str) + '_' + df['Sex']\n",
    "    df['Fare_log'] = np.log1p(df['Fare'])\n",
    "    procs = [Categorify, FillMissing, Normalize]\n",
    "    path = '.'     \n",
    "    cat_names  = ['Sex','Pclass','Embarked','class_x_sex','SibSp','Parch']\n",
    "    cont_names = ['Fare_log','Age']\n",
    "    \n",
    "    return build_base(df, procs, cat_names, cont_names, path)\n",
    "\n",
    "def build_base(df,procs,cat_names,cont_names,path = '.' ):\n",
    "\n",
    "    dls = TabularDataLoaders.from_df(\n",
    "        df, \n",
    "        path='.', \n",
    "        procs=procs,\n",
    "        cat_names=cat_names, \n",
    "        cont_names=cont_names,\n",
    "        y_names='Survived',\n",
    "        val_shuffle=True,\n",
    "        splits=RandomSplitter(0.2)(range_of(df))\n",
    "    )\n",
    "\n",
    "    learn = tabular_learner(\n",
    "        dls,\n",
    "        metrics=[accuracy],\n",
    "        loss_func=CrossEntropyLossFlat() \n",
    "    )\n",
    "\n",
    "    print(\"x_names:\", learn.dls.train_ds.x_names)\n",
    "    print(\"y_names:\", learn.dls.train_ds.y_names)\n",
    "\n",
    "    return learn, dls\n",
    "\n",
    "def fit_one(epoch,learn,slice1,slice2):\n",
    "    e = epoch\n",
    "    learn.fit_one_cycle(e,slice(slice1, slice2))\n",
    "    learn.recorder.plot_loss()\n",
    "\n",
    "def get_valid_data(learn, dls):\n",
    "    res = learn.validate()\n",
    "    valid_loss, accuracy = res[0], res[1]\n",
    "    print(f\"Validation accuracy:  {accuracy*100:.2f}%\")\n",
    "    print(f\"Validation error rate: {(1-accuracy)*100:.2f}%\")\n",
    "\n",
    "    # steps per epoch\n",
    "    steps_per_epoch = len(dls.train)\n",
    "    print(f\"{steps_per_epoch=} batches/epoch\")\n",
    "\n",
    "    # if you’re going to train n_epochs\n",
    "    n_epochs = 5\n",
    "    total_steps = steps_per_epoch * n_epochs\n",
    "    print(f\"{total_steps=} total training steps\")\n",
    "\n",
    "    # run the finder\n",
    "    learn.lr_find()\n",
    "\n",
    "learn, dls = modify_data()"
   ]
  },
  {
   "cell_type": "code",
   "execution_count": 2,
   "id": "ebb501c0",
   "metadata": {},
   "outputs": [
    {
     "data": {
      "text/html": [
       "\n",
       "<style>\n",
       "    /* Turns off some styling */\n",
       "    progress {\n",
       "        /* gets rid of default border in Firefox and Opera. */\n",
       "        border: none;\n",
       "        /* Needs to be in here for Safari polyfill so background images work as expected. */\n",
       "        background-size: auto;\n",
       "    }\n",
       "    progress:not([value]), progress:not([value])::-webkit-progress-bar {\n",
       "        background: repeating-linear-gradient(45deg, #7e7e7e, #7e7e7e 10px, #5c5c5c 10px, #5c5c5c 20px);\n",
       "    }\n",
       "    .progress-bar-interrupted, .progress-bar-interrupted::-webkit-progress-bar {\n",
       "        background: #F44336;\n",
       "    }\n",
       "</style>\n"
      ],
      "text/plain": [
       "<IPython.core.display.HTML object>"
      ]
     },
     "metadata": {},
     "output_type": "display_data"
    },
    {
     "data": {
      "text/html": [],
      "text/plain": [
       "<IPython.core.display.HTML object>"
      ]
     },
     "metadata": {},
     "output_type": "display_data"
    },
    {
     "data": {
      "text/plain": [
       "SuggestedLRs(valley=0.0006918309954926372)"
      ]
     },
     "execution_count": 2,
     "metadata": {},
     "output_type": "execute_result"
    },
    {
     "data": {
      "image/png": "[encoded data removed]",
      "text/plain": [
       "<Figure size 640x480 with 1 Axes>"
      ]
     },
     "metadata": {},
     "output_type": "display_data"
    }
   ],
   "source": [
    "learn.lr_find()"
   ]
  },
  {
   "cell_type": "markdown",
   "id": "6386035a",
   "metadata": {},
   "source": [
    "fit_one(6, learn, 1e-3, 1e-2)\n",
    "epoch\ttrain_loss\tvalid_loss\taccuracy\ttime\n",
    "\n",
    "0\t0.672212\t0.635953\t0.711268\t00:00\n",
    "1\t0.600438\t0.607645\t0.605634\t00:00\n",
    "2\t0.547603\t0.484247\t0.802817\t00:00\n",
    "3\t0.500596\t0.469872\t0.859155\t00:00\n",
    "4\t0.467530\t0.408349\t0.852113\t00:00\n",
    "5\t0.436518\t0.495027\t0.816901\t00:00"
   ]
  },
  {
   "cell_type": "code",
   "execution_count": 2,
   "id": "7f9ad6d1",
   "metadata": {},
   "outputs": [
    {
     "data": {
      "text/html": [
       "\n",
       "<style>\n",
       "    /* Turns off some styling */\n",
       "    progress {\n",
       "        /* gets rid of default border in Firefox and Opera. */\n",
       "        border: none;\n",
       "        /* Needs to be in here for Safari polyfill so background images work as expected. */\n",
       "        background-size: auto;\n",
       "    }\n",
       "    progress:not([value]), progress:not([value])::-webkit-progress-bar {\n",
       "        background: repeating-linear-gradient(45deg, #7e7e7e, #7e7e7e 10px, #5c5c5c 10px, #5c5c5c 20px);\n",
       "    }\n",
       "    .progress-bar-interrupted, .progress-bar-interrupted::-webkit-progress-bar {\n",
       "        background: #F44336;\n",
       "    }\n",
       "</style>\n"
      ],
      "text/plain": [
       "<IPython.core.display.HTML object>"
      ]
     },
     "metadata": {},
     "output_type": "display_data"
    },
    {
     "data": {
      "text/html": [
       "<table border=\"1\" class=\"dataframe\">\n",
       "  <thead>\n",
       "    <tr style=\"text-align: left;\">\n",
       "      <th>epoch</th>\n",
       "      <th>train_loss</th>\n",
       "      <th>valid_loss</th>\n",
       "      <th>accuracy</th>\n",
       "      <th>time</th>\n",
       "    </tr>\n",
       "  </thead>\n",
       "  <tbody>\n",
       "    <tr>\n",
       "      <td>0</td>\n",
       "      <td>0.656633</td>\n",
       "      <td>0.653613</td>\n",
       "      <td>0.669014</td>\n",
       "      <td>00:00</td>\n",
       "    </tr>\n",
       "    <tr>\n",
       "      <td>1</td>\n",
       "      <td>0.635252</td>\n",
       "      <td>0.554546</td>\n",
       "      <td>0.690141</td>\n",
       "      <td>00:00</td>\n",
       "    </tr>\n",
       "    <tr>\n",
       "      <td>2</td>\n",
       "      <td>0.574716</td>\n",
       "      <td>0.529867</td>\n",
       "      <td>0.781690</td>\n",
       "      <td>00:00</td>\n",
       "    </tr>\n",
       "    <tr>\n",
       "      <td>3</td>\n",
       "      <td>0.540253</td>\n",
       "      <td>0.467865</td>\n",
       "      <td>0.880282</td>\n",
       "      <td>00:00</td>\n",
       "    </tr>\n",
       "  </tbody>\n",
       "</table>"
      ],
      "text/plain": [
       "<IPython.core.display.HTML object>"
      ]
     },
     "metadata": {},
     "output_type": "display_data"
    },
    {
     "data": {
      "image/png": "[encoded data removed]",
      "text/plain": [
       "<Figure size 640x480 with 1 Axes>"
      ]
     },
     "metadata": {},
     "output_type": "display_data"
    }
   ],
   "source": [
    "fit_one(4, learn, 1e-3, 1e-2)"
   ]
  },
  {
   "cell_type": "code",
   "execution_count": 3,
   "id": "9b6c1e1f",
   "metadata": {},
   "outputs": [
    {
     "data": {
      "text/html": [
       "\n",
       "<style>\n",
       "    /* Turns off some styling */\n",
       "    progress {\n",
       "        /* gets rid of default border in Firefox and Opera. */\n",
       "        border: none;\n",
       "        /* Needs to be in here for Safari polyfill so background images work as expected. */\n",
       "        background-size: auto;\n",
       "    }\n",
       "    progress:not([value]), progress:not([value])::-webkit-progress-bar {\n",
       "        background: repeating-linear-gradient(45deg, #7e7e7e, #7e7e7e 10px, #5c5c5c 10px, #5c5c5c 20px);\n",
       "    }\n",
       "    .progress-bar-interrupted, .progress-bar-interrupted::-webkit-progress-bar {\n",
       "        background: #F44336;\n",
       "    }\n",
       "</style>\n"
      ],
      "text/plain": [
       "<IPython.core.display.HTML object>"
      ]
     },
     "metadata": {},
     "output_type": "display_data"
    },
    {
     "data": {
      "text/html": [],
      "text/plain": [
       "<IPython.core.display.HTML object>"
      ]
     },
     "metadata": {},
     "output_type": "display_data"
    },
    {
     "name": "stdout",
     "output_type": "stream",
     "text": [
      "Validation accuracy:  85.92%\n",
      "Validation error rate: 14.08%\n",
      "steps_per_epoch=8 batches/epoch\n",
      "total_steps=40 total training steps\n"
     ]
    },
    {
     "data": {
      "text/html": [
       "\n",
       "<style>\n",
       "    /* Turns off some styling */\n",
       "    progress {\n",
       "        /* gets rid of default border in Firefox and Opera. */\n",
       "        border: none;\n",
       "        /* Needs to be in here for Safari polyfill so background images work as expected. */\n",
       "        background-size: auto;\n",
       "    }\n",
       "    progress:not([value]), progress:not([value])::-webkit-progress-bar {\n",
       "        background: repeating-linear-gradient(45deg, #7e7e7e, #7e7e7e 10px, #5c5c5c 10px, #5c5c5c 20px);\n",
       "    }\n",
       "    .progress-bar-interrupted, .progress-bar-interrupted::-webkit-progress-bar {\n",
       "        background: #F44336;\n",
       "    }\n",
       "</style>\n"
      ],
      "text/plain": [
       "<IPython.core.display.HTML object>"
      ]
     },
     "metadata": {},
     "output_type": "display_data"
    },
    {
     "data": {
      "text/html": [],
      "text/plain": [
       "<IPython.core.display.HTML object>"
      ]
     },
     "metadata": {},
     "output_type": "display_data"
    },
    {
     "data": {
      "image/png": "[encoded data removed]",
      "text/plain": [
       "<Figure size 640x480 with 1 Axes>"
      ]
     },
     "metadata": {},
     "output_type": "display_data"
    }
   ],
   "source": [
    "get_valid_data(learn,dls)"
   ]
  },
  {
   "cell_type": "code",
   "execution_count": 4,
   "id": "b42e7a5a",
   "metadata": {},
   "outputs": [
    {
     "data": {
      "text/html": [
       "\n",
       "<style>\n",
       "    /* Turns off some styling */\n",
       "    progress {\n",
       "        /* gets rid of default border in Firefox and Opera. */\n",
       "        border: none;\n",
       "        /* Needs to be in here for Safari polyfill so background images work as expected. */\n",
       "        background-size: auto;\n",
       "    }\n",
       "    progress:not([value]), progress:not([value])::-webkit-progress-bar {\n",
       "        background: repeating-linear-gradient(45deg, #7e7e7e, #7e7e7e 10px, #5c5c5c 10px, #5c5c5c 20px);\n",
       "    }\n",
       "    .progress-bar-interrupted, .progress-bar-interrupted::-webkit-progress-bar {\n",
       "        background: #F44336;\n",
       "    }\n",
       "</style>\n"
      ],
      "text/plain": [
       "<IPython.core.display.HTML object>"
      ]
     },
     "metadata": {},
     "output_type": "display_data"
    },
    {
     "data": {
      "text/html": [],
      "text/plain": [
       "<IPython.core.display.HTML object>"
      ]
     },
     "metadata": {},
     "output_type": "display_data"
    },
    {
     "data": {
      "image/png": "[encoded data removed]",
      "text/plain": [
       "<Figure size 500x500 with 2 Axes>"
      ]
     },
     "metadata": {},
     "output_type": "display_data"
    },
    {
     "name": "stdout",
     "output_type": "stream",
     "text": [
      "Total misclassified: 30\n"
     ]
    },
    {
     "data": {
      "text/html": [
       "<div>\n",
       "<style scoped>\n",
       "    .dataframe tbody tr th:only-of-type {\n",
       "        vertical-align: middle;\n",
       "    }\n",
       "\n",
       "    .dataframe tbody tr th {\n",
       "        vertical-align: top;\n",
       "    }\n",
       "\n",
       "    .dataframe thead th {\n",
       "        text-align: right;\n",
       "    }\n",
       "</style>\n",
       "<table border=\"1\" class=\"dataframe\">\n",
       "  <thead>\n",
       "    <tr style=\"text-align: right;\">\n",
       "      <th></th>\n",
       "      <th>PassengerId</th>\n",
       "      <th>Survived</th>\n",
       "      <th>Pclass</th>\n",
       "      <th>Name</th>\n",
       "      <th>Sex</th>\n",
       "      <th>Age</th>\n",
       "      <th>SibSp</th>\n",
       "      <th>Parch</th>\n",
       "      <th>Ticket</th>\n",
       "      <th>Fare</th>\n",
       "      <th>Cabin</th>\n",
       "      <th>Embarked</th>\n",
       "      <th>class_x_sex</th>\n",
       "      <th>Fare_log</th>\n",
       "      <th>predicted</th>\n",
       "      <th>actual</th>\n",
       "    </tr>\n",
       "  </thead>\n",
       "  <tbody>\n",
       "    <tr>\n",
       "      <th>224</th>\n",
       "      <td>225</td>\n",
       "      <td>1</td>\n",
       "      <td>1</td>\n",
       "      <td>Hoyt, Mr. Frederick Maxfield</td>\n",
       "      <td>2</td>\n",
       "      <td>0.565461</td>\n",
       "      <td>2</td>\n",
       "      <td>1</td>\n",
       "      <td>19943</td>\n",
       "      <td>90.000000</td>\n",
       "      <td>C93</td>\n",
       "      <td>3</td>\n",
       "      <td>2</td>\n",
       "      <td>1.559497</td>\n",
       "      <td>0</td>\n",
       "      <td>1</td>\n",
       "    </tr>\n",
       "    <tr>\n",
       "      <th>418</th>\n",
       "      <td>419</td>\n",
       "      <td>0</td>\n",
       "      <td>2</td>\n",
       "      <td>Matthews, Mr. William John</td>\n",
       "      <td>2</td>\n",
       "      <td>0.007418</td>\n",
       "      <td>1</td>\n",
       "      <td>1</td>\n",
       "      <td>28228</td>\n",
       "      <td>13.000000</td>\n",
       "      <td>NaN</td>\n",
       "      <td>3</td>\n",
       "      <td>4</td>\n",
       "      <td>-0.423489</td>\n",
       "      <td>0</td>\n",
       "      <td>1</td>\n",
       "    </tr>\n",
       "    <tr>\n",
       "      <th>664</th>\n",
       "      <td>665</td>\n",
       "      <td>1</td>\n",
       "      <td>3</td>\n",
       "      <td>Lindqvist, Mr. Eino William</td>\n",
       "      <td>2</td>\n",
       "      <td>-0.690135</td>\n",
       "      <td>2</td>\n",
       "      <td>1</td>\n",
       "      <td>STON/O 2. 3101285</td>\n",
       "      <td>7.925000</td>\n",
       "      <td>NaN</td>\n",
       "      <td>3</td>\n",
       "      <td>6</td>\n",
       "      <td>-0.900432</td>\n",
       "      <td>0</td>\n",
       "      <td>1</td>\n",
       "    </tr>\n",
       "    <tr>\n",
       "      <th>591</th>\n",
       "      <td>592</td>\n",
       "      <td>1</td>\n",
       "      <td>1</td>\n",
       "      <td>Stephenson, Mrs. Walter Bertram (Martha Eustis)</td>\n",
       "      <td>1</td>\n",
       "      <td>1.542036</td>\n",
       "      <td>2</td>\n",
       "      <td>1</td>\n",
       "      <td>36947</td>\n",
       "      <td>78.266701</td>\n",
       "      <td>D20</td>\n",
       "      <td>1</td>\n",
       "      <td>1</td>\n",
       "      <td>1.413256</td>\n",
       "      <td>0</td>\n",
       "      <td>1</td>\n",
       "    </tr>\n",
       "    <tr>\n",
       "      <th>704</th>\n",
       "      <td>705</td>\n",
       "      <td>0</td>\n",
       "      <td>3</td>\n",
       "      <td>Hansen, Mr. Henrik Juul</td>\n",
       "      <td>2</td>\n",
       "      <td>-0.271603</td>\n",
       "      <td>2</td>\n",
       "      <td>1</td>\n",
       "      <td>350025</td>\n",
       "      <td>7.854200</td>\n",
       "      <td>NaN</td>\n",
       "      <td>3</td>\n",
       "      <td>6</td>\n",
       "      <td>-0.908869</td>\n",
       "      <td>0</td>\n",
       "      <td>1</td>\n",
       "    </tr>\n",
       "  </tbody>\n",
       "</table>\n",
       "</div>"
      ],
      "text/plain": [
       "     PassengerId  Survived  Pclass  \\\n",
       "224          225         1       1   \n",
       "418          419         0       2   \n",
       "664          665         1       3   \n",
       "591          592         1       1   \n",
       "704          705         0       3   \n",
       "\n",
       "                                                Name  Sex       Age  SibSp  \\\n",
       "224                     Hoyt, Mr. Frederick Maxfield    2  0.565461      2   \n",
       "418                       Matthews, Mr. William John    2  0.007418      1   \n",
       "664                      Lindqvist, Mr. Eino William    2 -0.690135      2   \n",
       "591  Stephenson, Mrs. Walter Bertram (Martha Eustis)    1  1.542036      2   \n",
       "704                          Hansen, Mr. Henrik Juul    2 -0.271603      2   \n",
       "\n",
       "     Parch             Ticket       Fare Cabin  Embarked  class_x_sex  \\\n",
       "224      1              19943  90.000000   C93         3            2   \n",
       "418      1              28228  13.000000   NaN         3            4   \n",
       "664      1  STON/O 2. 3101285   7.925000   NaN         3            6   \n",
       "591      1              36947  78.266701   D20         1            1   \n",
       "704      1             350025   7.854200   NaN         3            6   \n",
       "\n",
       "     Fare_log  predicted  actual  \n",
       "224  1.559497          0       1  \n",
       "418 -0.423489          0       1  \n",
       "664 -0.900432          0       1  \n",
       "591  1.413256          0       1  \n",
       "704 -0.908869          0       1  "
      ]
     },
     "execution_count": 4,
     "metadata": {},
     "output_type": "execute_result"
    }
   ],
   "source": [
    "from sklearn.metrics import confusion_matrix, ConfusionMatrixDisplay\n",
    "from matplotlib import pyplot as plt\n",
    "import pandas as pd\n",
    "\n",
    "# 1. Get model outputs & true targets on the valid set\n",
    "probs_val, targs_val = learn.get_preds(dl=learn.dls.valid)\n",
    "# ——> probs_val: (n_valid, n_classes) or (n_valid,1) if regressor\n",
    "# ——> targs_val: (n_valid,)\n",
    "\n",
    "# 2. Turn those into hard labels\n",
    "# If you have a 2‐class softmax head:\n",
    "preds_class = (probs_val.argmax(dim=1))\n",
    "\n",
    "# 3. Compute & plot the confusion matrix\n",
    "cm = confusion_matrix(targs_val.cpu(), preds_class.cpu())\n",
    "\n",
    "fig, ax = plt.subplots(figsize=(5,5))\n",
    "disp = ConfusionMatrixDisplay(confusion_matrix=cm, display_labels=[0,1])\n",
    "disp.plot(ax=ax)\n",
    "plt.show()\n",
    "\n",
    "# 4. Grab your original valid‐set DataFrame\n",
    "valid_df = learn.dls.valid.dataset.items.copy()\n",
    "\n",
    "# 5. Annotate with predictions and ground truth\n",
    "valid_df['predicted'] = preds_class.numpy()\n",
    "valid_df['actual']    = targs_val.numpy()\n",
    "\n",
    "# 6. Filter to only the misclassified rows\n",
    "misclassified = valid_df[valid_df['predicted'] != valid_df['actual']]\n",
    "\n",
    "# 7. Inspect\n",
    "print(f\"Total misclassified: {len(misclassified)}\")\n",
    "misclassified.head()\n"
   ]
  },
  {
   "cell_type": "code",
   "execution_count": 6,
   "id": "1d2e638e",
   "metadata": {},
   "outputs": [
    {
     "name": "stdout",
     "output_type": "stream",
     "text": [
      "count of not dead females: 0\n",
      "count of dead females: 20\n"
     ]
    }
   ],
   "source": [
    "df = misclassified.copy()\n",
    "not_dead = df[df['predicted'] == 1]\n",
    "count_nd_female = (not_dead['Sex'] ==2).sum()\n",
    "print(f\"count of not dead females: {count_nd_female}\")\n",
    "\n",
    "\n",
    "dead = df[df['predicted'] == 0]\n",
    "count_d_female = (dead['Sex'] ==2).sum()\n",
    "print(f\"count of dead females: {count_d_female}\")"
   ]
  },
  {
   "cell_type": "code",
   "execution_count": 7,
   "id": "65fcbae5",
   "metadata": {},
   "outputs": [
    {
     "name": "stdout",
     "output_type": "stream",
     "text": [
      "count of misclassified males = 10\n"
     ]
    }
   ],
   "source": [
    "males_misclassified = (df['Sex'] == 1).sum()\n",
    "print(f\"count of misclassified males = {males_misclassified}\")"
   ]
  },
  {
   "cell_type": "code",
   "execution_count": 5,
   "id": "d8c41eaa",
   "metadata": {},
   "outputs": [],
   "source": [
    "learn.export('titanic_model_v4.1.pkl')"
   ]
  }
 ],
 "metadata": {
  "kernelspec": {
   "display_name": ".venv",
   "language": "python",
   "name": "python3"
  },
  "language_info": {
   "codemirror_mode": {
    "name": "ipython",
    "version": 3
   },
   "file_extension": ".py",
   "mimetype": "text/x-python",
   "name": "python",
   "nbconvert_exporter": "python",
   "pygments_lexer": "ipython3",
   "version": "3.12.6"
  }
 },
 "nbformat": 4,
 "nbformat_minor": 5
}
