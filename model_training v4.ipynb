{
 "cells": [
  {
   "cell_type": "markdown",
   "id": "8aac0649",
   "metadata": {},
   "source": [
    "Model training!"
   ]
  },
  {
   "cell_type": "code",
   "execution_count": 1,
   "id": "ffedf79e",
   "metadata": {},
   "outputs": [
    {
     "name": "stderr",
     "output_type": "stream",
     "text": [
      "c:\\Code\\Local Code\\titanic_survive\\.venv\\Lib\\site-packages\\fastai\\tabular\\core.py:314: FutureWarning: A value is trying to be set on a copy of a DataFrame or Series through chained assignment using an inplace method.\n",
      "The behavior will change in pandas 3.0. This inplace method will never work because the intermediate object on which we are setting values always behaves as a copy.\n",
      "\n",
      "For example, when doing 'df[col].method(value, inplace=True)', try using 'df.method({col: value}, inplace=True)' or df[col] = df[col].method(value) instead, to perform the operation inplace on the original object.\n",
      "\n",
      "\n",
      "  to[n].fillna(self.na_dict[n], inplace=True)\n"
     ]
    }
   ],
   "source": [
    "import pandas as pd\n",
    "import numpy as np\n",
    "from fastai.tabular.all import *\n",
    "from sklearn.model_selection import StratifiedShuffleSplit\n",
    "\n",
    "def modify_data():\n",
    "    df = pd.read_csv('train.csv')\n",
    "    df['Survived'] = df['Survived'].astype('category')\n",
    "    df['Fare'] = df['Fare'].fillna(df['Fare'].median())\n",
    "    df['Fare_log'] = np.log1p(df['Fare'])\n",
    "    df['cabin_height'] = df['Cabin'].str[0].fillna('U')\n",
    "    df['Embarked'] = df['Embarked'].fillna(0)\n",
    "    procs = [Categorify, FillMissing, Normalize]\n",
    "    cat_names  = ['Sex','Embarked','cabin_height']\n",
    "    cont_names = ['Fare_log','Age','SibSp','Parch']\n",
    "    \n",
    "    return build_base(df, procs, cat_names, cont_names)\n",
    "\n",
    "def build_base(df,procs,cat_names,cont_names):\n",
    "\n",
    "    tp = TabularPandas(\n",
    "        df, \n",
    "        procs=procs,\n",
    "        cat_names=cat_names, \n",
    "        cont_names=cont_names,\n",
    "        y_names='Survived',\n",
    "        y_block=RegressionBlock(),\n",
    "        splits = RandomSplitter(0.2)(range_of(df)),\n",
    "        )\n",
    "    dls  = tp.dataloaders(path='.')\n",
    "    learn = tabular_learner(\n",
    "        dls,\n",
    "        layers=[200,100],\n",
    "        loss_func=MSELossFlat(),\n",
    "        wd=0.1,\n",
    "        metrics=[rmse, mae, R2Score()]\n",
    "    )\n",
    "\n",
    "    return learn, dls\n",
    "\n",
    "def get_valid_data(learn, dls):\n",
    "    valid_loss, rmse_val, mae_val, r2_val = learn.validate()\n",
    "    print(f\"Valid Loss (MSE):       {valid_loss:.4f}\")\n",
    "    print(f\"Valid RMSE:             {rmse_val:.4f}\")\n",
    "    print(f\"Valid MAE:              {mae_val:.4f}\")\n",
    "    print(f\"Valid R² score:         {r2_val:.4f}\")\n",
    "    # run the finder\n",
    "    learn.lr_find()\n",
    "\n",
    "learn, dls = modify_data()"
   ]
  },
  {
   "cell_type": "code",
   "execution_count": null,
   "id": "ebb501c0",
   "metadata": {},
   "outputs": [],
   "source": [
    "learn.lr_find()"
   ]
  },
  {
   "cell_type": "markdown",
   "id": "6386035a",
   "metadata": {},
   "source": [
    "fit_one(6, learn, 1e-3, 1e-2)\n",
    "epoch\ttrain_loss\tvalid_loss\taccuracy\ttime\n",
    "\n",
    "0\t0.672212\t0.635953\t0.711268\t00:00\n",
    "1\t0.600438\t0.607645\t0.605634\t00:00\n",
    "2\t0.547603\t0.484247\t0.802817\t00:00\n",
    "3\t0.500596\t0.469872\t0.859155\t00:00\n",
    "4\t0.467530\t0.408349\t0.852113\t00:00\n",
    "5\t0.436518\t0.495027\t0.816901\t00:00"
   ]
  },
  {
   "cell_type": "code",
   "execution_count": 2,
   "id": "7f9ad6d1",
   "metadata": {},
   "outputs": [
    {
     "data": {
      "text/html": [
       "\n",
       "<style>\n",
       "    /* Turns off some styling */\n",
       "    progress {\n",
       "        /* gets rid of default border in Firefox and Opera. */\n",
       "        border: none;\n",
       "        /* Needs to be in here for Safari polyfill so background images work as expected. */\n",
       "        background-size: auto;\n",
       "    }\n",
       "    progress:not([value]), progress:not([value])::-webkit-progress-bar {\n",
       "        background: repeating-linear-gradient(45deg, #7e7e7e, #7e7e7e 10px, #5c5c5c 10px, #5c5c5c 20px);\n",
       "    }\n",
       "    .progress-bar-interrupted, .progress-bar-interrupted::-webkit-progress-bar {\n",
       "        background: #F44336;\n",
       "    }\n",
       "</style>\n"
      ],
      "text/plain": [
       "<IPython.core.display.HTML object>"
      ]
     },
     "metadata": {},
     "output_type": "display_data"
    },
    {
     "data": {
      "text/html": [
       "<table border=\"1\" class=\"dataframe\">\n",
       "  <thead>\n",
       "    <tr style=\"text-align: left;\">\n",
       "      <th>epoch</th>\n",
       "      <th>train_loss</th>\n",
       "      <th>valid_loss</th>\n",
       "      <th>_rmse</th>\n",
       "      <th>mae</th>\n",
       "      <th>r2_score</th>\n",
       "      <th>time</th>\n",
       "    </tr>\n",
       "  </thead>\n",
       "  <tbody>\n",
       "    <tr>\n",
       "      <td>0</td>\n",
       "      <td>0.470744</td>\n",
       "      <td>0.224461</td>\n",
       "      <td>0.473773</td>\n",
       "      <td>0.428404</td>\n",
       "      <td>0.068157</td>\n",
       "      <td>00:00</td>\n",
       "    </tr>\n",
       "    <tr>\n",
       "      <td>1</td>\n",
       "      <td>0.352677</td>\n",
       "      <td>0.224956</td>\n",
       "      <td>0.474295</td>\n",
       "      <td>0.431141</td>\n",
       "      <td>0.066103</td>\n",
       "      <td>00:00</td>\n",
       "    </tr>\n",
       "    <tr>\n",
       "      <td>2</td>\n",
       "      <td>0.287574</td>\n",
       "      <td>0.174139</td>\n",
       "      <td>0.417299</td>\n",
       "      <td>0.347184</td>\n",
       "      <td>0.277069</td>\n",
       "      <td>00:00</td>\n",
       "    </tr>\n",
       "    <tr>\n",
       "      <td>3</td>\n",
       "      <td>0.243777</td>\n",
       "      <td>0.149091</td>\n",
       "      <td>0.386123</td>\n",
       "      <td>0.311114</td>\n",
       "      <td>0.381054</td>\n",
       "      <td>00:00</td>\n",
       "    </tr>\n",
       "    <tr>\n",
       "      <td>4</td>\n",
       "      <td>0.213310</td>\n",
       "      <td>0.135785</td>\n",
       "      <td>0.368490</td>\n",
       "      <td>0.276965</td>\n",
       "      <td>0.436295</td>\n",
       "      <td>00:00</td>\n",
       "    </tr>\n",
       "    <tr>\n",
       "      <td>5</td>\n",
       "      <td>0.192984</td>\n",
       "      <td>0.129245</td>\n",
       "      <td>0.359506</td>\n",
       "      <td>0.255283</td>\n",
       "      <td>0.463445</td>\n",
       "      <td>00:00</td>\n",
       "    </tr>\n",
       "  </tbody>\n",
       "</table>"
      ],
      "text/plain": [
       "<IPython.core.display.HTML object>"
      ]
     },
     "metadata": {},
     "output_type": "display_data"
    },
    {
     "data": {
      "text/plain": [
       "<Axes: title={'center': 'learning curve'}, xlabel='steps', ylabel='loss'>"
      ]
     },
     "execution_count": 2,
     "metadata": {},
     "output_type": "execute_result"
    },
    {
     "data": {
      "image/png": "[encoded data removed]",
      "text/plain": [
       "<Figure size 640x480 with 1 Axes>"
      ]
     },
     "metadata": {},
     "output_type": "display_data"
    }
   ],
   "source": [
    "learn.fit_one_cycle(6,slice(1e-4,1e-2))\n",
    "learn.recorder.plot_loss()\n"
   ]
  },
  {
   "cell_type": "code",
   "execution_count": 3,
   "id": "9b6c1e1f",
   "metadata": {},
   "outputs": [
    {
     "data": {
      "text/html": [
       "\n",
       "<style>\n",
       "    /* Turns off some styling */\n",
       "    progress {\n",
       "        /* gets rid of default border in Firefox and Opera. */\n",
       "        border: none;\n",
       "        /* Needs to be in here for Safari polyfill so background images work as expected. */\n",
       "        background-size: auto;\n",
       "    }\n",
       "    progress:not([value]), progress:not([value])::-webkit-progress-bar {\n",
       "        background: repeating-linear-gradient(45deg, #7e7e7e, #7e7e7e 10px, #5c5c5c 10px, #5c5c5c 20px);\n",
       "    }\n",
       "    .progress-bar-interrupted, .progress-bar-interrupted::-webkit-progress-bar {\n",
       "        background: #F44336;\n",
       "    }\n",
       "</style>\n"
      ],
      "text/plain": [
       "<IPython.core.display.HTML object>"
      ]
     },
     "metadata": {},
     "output_type": "display_data"
    },
    {
     "data": {
      "text/html": [],
      "text/plain": [
       "<IPython.core.display.HTML object>"
      ]
     },
     "metadata": {},
     "output_type": "display_data"
    },
    {
     "name": "stdout",
     "output_type": "stream",
     "text": [
      "Valid Loss (MSE):       0.1292\n",
      "Valid RMSE:             0.3595\n",
      "Valid MAE:              0.2553\n",
      "Valid R² score:         0.4634\n"
     ]
    },
    {
     "data": {
      "text/html": [
       "\n",
       "<style>\n",
       "    /* Turns off some styling */\n",
       "    progress {\n",
       "        /* gets rid of default border in Firefox and Opera. */\n",
       "        border: none;\n",
       "        /* Needs to be in here for Safari polyfill so background images work as expected. */\n",
       "        background-size: auto;\n",
       "    }\n",
       "    progress:not([value]), progress:not([value])::-webkit-progress-bar {\n",
       "        background: repeating-linear-gradient(45deg, #7e7e7e, #7e7e7e 10px, #5c5c5c 10px, #5c5c5c 20px);\n",
       "    }\n",
       "    .progress-bar-interrupted, .progress-bar-interrupted::-webkit-progress-bar {\n",
       "        background: #F44336;\n",
       "    }\n",
       "</style>\n"
      ],
      "text/plain": [
       "<IPython.core.display.HTML object>"
      ]
     },
     "metadata": {},
     "output_type": "display_data"
    },
    {
     "data": {
      "text/html": [],
      "text/plain": [
       "<IPython.core.display.HTML object>"
      ]
     },
     "metadata": {},
     "output_type": "display_data"
    },
    {
     "data": {
      "image/png": "[encoded data removed]",
      "text/plain": [
       "<Figure size 640x480 with 1 Axes>"
      ]
     },
     "metadata": {},
     "output_type": "display_data"
    }
   ],
   "source": [
    "get_valid_data(learn,dls)"
   ]
  },
  {
   "cell_type": "code",
   "execution_count": null,
   "id": "b42e7a5a",
   "metadata": {},
   "outputs": [],
   "source": [
    "from sklearn.metrics import confusion_matrix, ConfusionMatrixDisplay\n",
    "from matplotlib import pyplot as plt\n",
    "import pandas as pd\n",
    "\n",
    "# 1. Get model outputs & true targets on the valid set\n",
    "probs_val, targs_val = learn.get_preds(dl=learn.dls.valid)\n",
    "# ——> probs_val: (n_valid, n_classes) or (n_valid,1) if regressor\n",
    "# ——> targs_val: (n_valid,)\n",
    "surv_probs = probs_val[:,1]\n",
    "plt.figure(figsize=(6,4))\n",
    "plt.hist(surv_probs.numpy(), bins=20, edgecolor='k')\n",
    "plt.xlabel('Predicted Survival Probability')\n",
    "plt.ylabel('Count')\n",
    "plt.title('Distribution of Survival Probabilities')\n",
    "plt.show()\n",
    "# 2. Turn those into hard labels\n",
    "# If you have a 2‐class softmax head:\n",
    "preds_class = (probs_val.argmax(dim=1))\n",
    "\n",
    "# 3. Compute & plot the confusion matrix\n",
    "cm = confusion_matrix(targs_val.cpu(), preds_class.cpu())\n",
    "\n",
    "fig, ax = plt.subplots(figsize=(5,5))\n",
    "disp = ConfusionMatrixDisplay(confusion_matrix=cm, display_labels=[0,1])\n",
    "disp.plot(ax=ax)\n",
    "plt.show()\n",
    "\n",
    "# 4. Grab your original valid‐set DataFrame\n",
    "valid_df = learn.dls.valid.dataset.items.copy()\n",
    "\n",
    "# 5. Annotate with predictions and ground truth\n",
    "valid_df['predicted'] = preds_class.numpy()\n",
    "valid_df['actual']    = targs_val.numpy()\n",
    "\n",
    "# 6. Filter to only the misclassified rows\n",
    "misclassified = valid_df[valid_df['predicted'] != valid_df['actual']]\n",
    "\n",
    "# 7. Inspect\n",
    "print(f\"Total misclassified: {len(misclassified)}\")\n",
    "misclassified.head()\n",
    "age_na_count = misclassified[misclassified['Age_na'] == 2]\n",
    "print(f\"Number of rows with missing Age: {len(age_na_count)}\")\n"
   ]
  },
  {
   "cell_type": "code",
   "execution_count": null,
   "id": "1d2e638e",
   "metadata": {},
   "outputs": [],
   "source": [
    "df = misclassified.copy()\n",
    "not_dead = df[df['predicted'] == 1]\n",
    "count_nd_female = (not_dead['Sex'] ==2).sum()\n",
    "print(f\"predict alive, false: {count_nd_female}\")\n",
    "\n",
    "\n",
    "dead = df[df['predicted'] == 0]\n",
    "count_d_female = (dead['Sex'] ==2).sum()\n",
    "print(f\"predict dead, false: {count_d_female}\")"
   ]
  },
  {
   "cell_type": "code",
   "execution_count": null,
   "id": "65fcbae5",
   "metadata": {},
   "outputs": [],
   "source": [
    "males_misclassified = (df['Sex'] == 1).sum()\n",
    "print(f\"count of misclassified males = {males_misclassified}\")"
   ]
  },
  {
   "cell_type": "code",
   "execution_count": 4,
   "id": "d8c41eaa",
   "metadata": {},
   "outputs": [],
   "source": [
    "learn.export('titanic_model_v7.pkl')"
   ]
  }
 ],
 "metadata": {
  "kernelspec": {
   "display_name": ".venv",
   "language": "python",
   "name": "python3"
  },
  "language_info": {
   "codemirror_mode": {
    "name": "ipython",
    "version": 3
   },
   "file_extension": ".py",
   "mimetype": "text/x-python",
   "name": "python",
   "nbconvert_exporter": "python",
   "pygments_lexer": "ipython3",
   "version": "3.12.6"
  }
 },
 "nbformat": 4,
 "nbformat_minor": 5
}
