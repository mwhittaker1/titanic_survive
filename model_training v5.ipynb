{
 "cells": [
  {
   "cell_type": "markdown",
   "id": "8aac0649",
   "metadata": {},
   "source": [
    "Model training!"
   ]
  },
  {
   "cell_type": "code",
   "execution_count": 1,
   "id": "ffedf79e",
   "metadata": {},
   "outputs": [],
   "source": [
    "import pandas as pd\n",
    "import numpy as np\n",
    "from fastai.tabular.all import *\n",
    "from sklearn.model_selection import StratifiedShuffleSplit\n",
    "\n",
    "def modify_data():\n",
    "    df = pd.read_csv('train.csv')\n",
    "    df['Survived'] = df['Survived'].astype('category')\n",
    "    age_median = df['Age'].median()\n",
    "    df['Age'] = df['Age'].replace(0, age_median)\n",
    "    fare_median = df['Fare'].median()\n",
    "    df['Fare'] = df['Fare'].replace(0, fare_median)\n",
    "    df['Fare_log'] = np.log1p(df['Fare'])\n",
    "    df['cabin_height'] = df['Cabin'].str[0].fillna('U')\n",
    "    df['Embarked'] = df['Embarked'].fillna(0)\n",
    "\n",
    "    procs = [Categorify, Normalize]\n",
    "    cat_names  = ['Sex','Embarked','cabin_height','Pclass','SibSp','Parch']\n",
    "    cont_names = ['Fare_log','Age']\n",
    "    \n",
    "    return build_base(df, procs, cat_names, cont_names)\n",
    "\n",
    "def build_base(df,procs,cat_names,cont_names):\n",
    "\n",
    "    tp = TabularPandas(\n",
    "        df, \n",
    "        procs=procs,\n",
    "        cat_names=cat_names, \n",
    "        cont_names=cont_names,\n",
    "        y_names='Survived',\n",
    "        y_block=RegressionBlock(),\n",
    "        splits = RandomSplitter(0.2)(range_of(df)),\n",
    "        )\n",
    "    dls  = tp.dataloaders(path='.')\n",
    "    learn = tabular_learner(\n",
    "        dls,\n",
    "        layers=[200,100],\n",
    "        loss_func=MSELossFlat(),\n",
    "        wd=0.1,\n",
    "        metrics=[rmse, mae, R2Score()]\n",
    "    )\n",
    "\n",
    "    return df, learn,tp, dls, cat_names, cont_names\n",
    "\n",
    "def get_valid_data(learn, dls):\n",
    "    valid_loss, rmse_val, mae_val, r2_val = learn.validate()\n",
    "    print(f\"Valid Loss (MSE):       {valid_loss:.4f}\")\n",
    "    print(f\"Valid RMSE:             {rmse_val:.4f}\")\n",
    "    print(f\"Valid MAE:              {mae_val:.4f}\")\n",
    "    print(f\"Valid R² score:         {r2_val:.4f}\")\n",
    "    # run the finder\n",
    "    learn.lr_find()\n"
   ]
  },
  {
   "cell_type": "code",
   "execution_count": 2,
   "id": "ebb501c0",
   "metadata": {},
   "outputs": [],
   "source": [
    "df, learn, tp, dls, cat_names, cont_names = modify_data()\n"
   ]
  },
  {
   "cell_type": "code",
   "execution_count": 3,
   "id": "ed1f5920",
   "metadata": {},
   "outputs": [],
   "source": [
    "from sklearn.ensemble import RandomForestClassifier\n",
    "from sklearn.metrics import accuracy_score\n",
    "from sklearn.model_selection import train_test_split\n",
    "\n",
    "df = tp.items\n",
    "df[cont_names] = df[cont_names]\n",
    "X = df[cont_names + cat_names]\n",
    "y = df['Survived']\n",
    "\n",
    "X_train, X_val, y_train, y_val = train_test_split(X, y, test_size=0.2)\n"
   ]
  },
  {
   "cell_type": "code",
   "execution_count": 4,
   "id": "af7376c2",
   "metadata": {},
   "outputs": [
    {
     "name": "stdout",
     "output_type": "stream",
     "text": [
      "Train accuracy: 0.8342696629213483\n",
      "Val accuracy:   0.7541899441340782\n"
     ]
    }
   ],
   "source": [
    "\n",
    "model = RandomForestClassifier(n_estimators=75, max_depth=3, random_state=42)\n",
    "model.fit(X_train, y_train)\n",
    "\n",
    "from sklearn.model_selection import cross_val_score\n",
    "cross_val_score(model, X, y, cv=5).mean()\n",
    "\n",
    "print(\"Train accuracy:\", model.score(X_train, y_train))\n",
    "print(\"Val accuracy:  \", model.score(X_val, y_val))"
   ]
  },
  {
   "cell_type": "code",
   "execution_count": null,
   "id": "e0d55b87",
   "metadata": {},
   "outputs": [],
   "source": [
    "\n",
    "for n in [10, 25, 50, 100]:\n",
    "    rf = RandomForestClassifier(n_estimators=n, max_depth=4, random_state=42)\n",
    "    rf.fit(X_train, y_train)\n",
    "    print(f\"{n} trees → Train: {rf.score(X_train, y_train):.3f} | Val: {rf.score(X_val, y_val):.3f}\")"
   ]
  },
  {
   "cell_type": "code",
   "execution_count": 6,
   "id": "e5bb7c22",
   "metadata": {},
   "outputs": [
    {
     "data": {
      "text/plain": [
       "['rf_model_bundle.pkl']"
      ]
     },
     "execution_count": 6,
     "metadata": {},
     "output_type": "execute_result"
    }
   ],
   "source": [
    "import joblib\n",
    "\n",
    "# Save to a file\n",
    "joblib.dump({'model': model, 'procs': tp.procs, 'columns': X_train.columns.tolist()}, 'rf_model_bundle.pkl')"
   ]
  },
  {
   "cell_type": "code",
   "execution_count": null,
   "id": "37159d92",
   "metadata": {},
   "outputs": [],
   "source": [
    "from sklearn.tree import DecisionTreeClassifier\n",
    "from sklearn.metrics import accuracy_score\n",
    "from sklearn.model_selection import train_test_split\n",
    "\n",
    "df = tp.items\n",
    "X = df[cont_names + cat_names]\n",
    "y = df['Survived']\n",
    "\n",
    "X_train, X_val, y_train, y_val = train_test_split(X, y, test_size=0.2)\n",
    "\n",
    "model = DecisionTreeClassifier(max_depth=3)\n",
    "model.fit(X_train, y_train)\n",
    "\n",
    "y_pred = model.predict(X_val)\n",
    "print(\"Accuracy:\", accuracy_score(y_val, y_pred))\n",
    "from sklearn.tree import plot_tree\n",
    "import matplotlib.pyplot as plt\n",
    "\n",
    "plt.figure(figsize=(20,10))\n",
    "plot_tree(model, feature_names=X.columns, class_names=['No', 'Yes'], filled=True)\n",
    "plt.show()\n",
    "\n",
    "importances = pd.Series(model.feature_importances_, index=X.columns)\n",
    "print(importances.sort_values(ascending=False))\n",
    "\n",
    "print(\"Train accuracy:\", model.score(X_train, y_train))\n",
    "print(\"Val accuracy:  \", model.score(X_val, y_val))"
   ]
  },
  {
   "cell_type": "code",
   "execution_count": null,
   "id": "80bffb24",
   "metadata": {},
   "outputs": [],
   "source": [
    "from sklearn.tree import DecisionTreeClassifier\n",
    "from sklearn.metrics import accuracy_score\n",
    "from sklearn.model_selection import train_test_split\n",
    "\n",
    "df = tp.items\n",
    "X = df[cont_names + cat_names]\n",
    "y = df['Survived']\n",
    "\n",
    "X_train, X_val, y_train, y_val = train_test_split(X, y, test_size=0.2)\n",
    "\n",
    "model = DecisionTreeClassifier(max_depth=7)\n",
    "model.fit(X_train, y_train)\n",
    "\n",
    "y_pred = model.predict(X_val)\n",
    "print(\"Accuracy:\", accuracy_score(y_val, y_pred))\n",
    "from sklearn.tree import plot_tree\n",
    "import matplotlib.pyplot as plt\n",
    "\n",
    "plt.figure(figsize=(20,10))\n",
    "plot_tree(model, feature_names=X.columns, class_names=['No', 'Yes'], filled=True)\n",
    "plt.show()\n",
    "\n",
    "importances = pd.Series(model.feature_importances_, index=X.columns)\n",
    "print(importances.sort_values(ascending=False))\n",
    "\n",
    "print(\"Train accuracy:\", model.score(X_train, y_train))\n",
    "print(\"Val accuracy:  \", model.score(X_val, y_val))"
   ]
  },
  {
   "cell_type": "code",
   "execution_count": null,
   "id": "1a0b1d99",
   "metadata": {},
   "outputs": [],
   "source": []
  },
  {
   "cell_type": "code",
   "execution_count": null,
   "id": "7f9ad6d1",
   "metadata": {},
   "outputs": [],
   "source": [
    "print(\"4 epochs, slice(1e-4, 1e-2)\")\n",
    "learn= tabular_learner(\n",
    "        dls,\n",
    "        layers=[200,100],\n",
    "        loss_func=MSELossFlat(),\n",
    "        wd=0.1,\n",
    "        metrics=[rmse, mae, R2Score()]\n",
    "    )\n",
    "learn.fit_one_cycle(5, slice(1e-4, 1e-2))\n"
   ]
  },
  {
   "cell_type": "code",
   "execution_count": null,
   "id": "9b6c1e1f",
   "metadata": {},
   "outputs": [],
   "source": [
    "get_valid_data(learn,dls)"
   ]
  },
  {
   "cell_type": "code",
   "execution_count": null,
   "id": "b42e7a5a",
   "metadata": {},
   "outputs": [],
   "source": [
    "from sklearn.metrics import confusion_matrix, ConfusionMatrixDisplay\n",
    "from matplotlib import pyplot as plt\n",
    "import pandas as pd\n",
    "\n",
    "# 1. Get model outputs & true targets on the valid set\n",
    "probs_val, targs_val = learn.get_preds(dl=learn.dls.valid)\n",
    "# ——> probs_val: (n_valid, n_classes) or (n_valid,1) if regressor\n",
    "# ——> targs_val: (n_valid,)\n",
    "surv_probs = probs_val[:,1] if probs_val.shape[1] > 1 else probs_val.squeeze()\n",
    "plt.figure(figsize=(6,4))\n",
    "plt.hist(surv_probs.numpy(), bins=20, edgecolor='k')\n",
    "plt.xlabel('Predicted Survival Probability')\n",
    "plt.ylabel('Count')\n",
    "plt.title('Distribution of Survival Probabilities')\n",
    "plt.show()\n",
    "# 2. Turn those into hard labels\n",
    "# If you have a 2‐class softmax head:\n",
    "preds_class = (probs_val.squeeze() > 0.5).int()\n",
    "\n",
    "# 3. Compute & plot the confusion matrix\n",
    "cm = confusion_matrix(targs_val.cpu(), preds_class.cpu())\n",
    "\n",
    "fig, ax = plt.subplots(figsize=(5,5))\n",
    "disp = ConfusionMatrixDisplay(confusion_matrix=cm, display_labels=[0,1])\n",
    "disp.plot(ax=ax)\n",
    "plt.show()\n",
    "\n",
    "# 4. Grab your original valid‐set DataFrame\n",
    "valid_df = learn.dls.valid.dataset.items.copy()\n",
    "\n",
    "# 5. Annotate with predictions and ground truth\n",
    "valid_df['predicted'] = preds_class.numpy()\n",
    "valid_df['actual']    = targs_val.numpy()\n",
    "\n",
    "# 6. Filter to only the misclassified rows\n",
    "misclassified = valid_df[valid_df['predicted'] != valid_df['actual']]\n",
    "\n",
    "# 7. Inspect\n",
    "print(f\"Total misclassified: {len(misclassified)}\")\n",
    "misclassified.head()\n",
    "age_na_count = misclassified[misclassified['Age_na'] == 2]\n",
    "print(f\"Number of rows with missing Age: {len(age_na_count)}\")\n"
   ]
  },
  {
   "cell_type": "code",
   "execution_count": null,
   "id": "1d2e638e",
   "metadata": {},
   "outputs": [],
   "source": [
    "df = misclassified.copy()\n",
    "not_dead = df[df['predicted'] == 1]\n",
    "count_nd_female = (not_dead['Sex'] ==2).sum()\n",
    "print(f\"predict alive, false: {count_nd_female}\")\n",
    "\n",
    "\n",
    "dead = df[df['predicted'] == 0]\n",
    "count_d_female = (dead['Sex'] ==2).sum()\n",
    "print(f\"predict dead, false: {count_d_female}\")\n",
    "\n",
    "c_not_dead = df[df['predicted'] == 0]\n",
    "count_c_not = (c_not_dead['Child'] == 0).sum()\n",
    "print(f\"predict alive, false, child: {count_c_not}\")\n",
    "\n",
    "a_not_dead = df[df['predicted'] == 0]\n",
    "count_a_not = (a_not_dead['Adult'] == 0).sum()\n",
    "print(f\"predict alive, false, adult: {count_a_not}\")\n",
    "\n",
    "s_not_dead = df[df['predicted'] == 0]\n",
    "count_s_not = (s_not_dead['Senior'] == 0).sum()\n",
    "print(f\"predict alive, false, senior: {count_s_not}\")"
   ]
  },
  {
   "cell_type": "code",
   "execution_count": null,
   "id": "65fcbae5",
   "metadata": {},
   "outputs": [],
   "source": [
    "males_misclassified = (df['Sex'] == 1).sum()\n",
    "print(f\"count of misclassified males = {males_misclassified}\")"
   ]
  },
  {
   "cell_type": "code",
   "execution_count": null,
   "id": "d8c41eaa",
   "metadata": {},
   "outputs": [],
   "source": [
    "learn.export('titanic_model_v7.pkl')"
   ]
  }
 ],
 "metadata": {
  "kernelspec": {
   "display_name": ".venv",
   "language": "python",
   "name": "python3"
  },
  "language_info": {
   "codemirror_mode": {
    "name": "ipython",
    "version": 3
   },
   "file_extension": ".py",
   "mimetype": "text/x-python",
   "name": "python",
   "nbconvert_exporter": "python",
   "pygments_lexer": "ipython3",
   "version": "3.12.6"
  }
 },
 "nbformat": 4,
 "nbformat_minor": 5
}
