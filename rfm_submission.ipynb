{
 "cells": [
  {
   "cell_type": "code",
   "execution_count": 2,
   "id": "982908e7",
   "metadata": {},
   "outputs": [],
   "source": [
    "import joblib\n",
    "\n",
    "# Load the model\n",
    "rf = joblib.load('random_forest_model.pkl')"
   ]
  },
  {
   "cell_type": "markdown",
   "id": "30d23208",
   "metadata": {},
   "source": [
    "Rebuild Feature Columns"
   ]
  },
  {
   "cell_type": "code",
   "execution_count": null,
   "id": "fee01588",
   "metadata": {},
   "outputs": [
    {
     "name": "stderr",
     "output_type": "stream",
     "text": [
      "c:\\Code\\Local Code\\titanic_survive\\.venv\\Lib\\site-packages\\fastai\\tabular\\core.py:314: FutureWarning: A value is trying to be set on a copy of a DataFrame or Series through chained assignment using an inplace method.\n",
      "The behavior will change in pandas 3.0. This inplace method will never work because the intermediate object on which we are setting values always behaves as a copy.\n",
      "\n",
      "For example, when doing 'df[col].method(value, inplace=True)', try using 'df.method({col: value}, inplace=True)' or df[col] = df[col].method(value) instead, to perform the operation inplace on the original object.\n",
      "\n",
      "\n",
      "  to[n].fillna(self.na_dict[n], inplace=True)\n"
     ]
    },
    {
     "ename": "TypeError",
     "evalue": "'method' object is not subscriptable",
     "output_type": "error",
     "traceback": [
      "\u001b[31m---------------------------------------------------------------------------\u001b[39m",
      "\u001b[31mTypeError\u001b[39m                                 Traceback (most recent call last)",
      "\u001b[36mCell\u001b[39m\u001b[36m \u001b[39m\u001b[32mIn[9]\u001b[39m\u001b[32m, line 30\u001b[39m\n\u001b[32m     28\u001b[39m df[cont_names] = df[cont_names]\n\u001b[32m     29\u001b[39m X_test = df[cont_names + cat_names]\n\u001b[32m---> \u001b[39m\u001b[32m30\u001b[39m X_test = \u001b[43mX_test\u001b[49m\u001b[43m.\u001b[49m\u001b[43mdrop\u001b[49m\u001b[43m[\u001b[49m\u001b[33;43m'\u001b[39;49m\u001b[33;43mFare_log_na\u001b[39;49m\u001b[33;43m'\u001b[39;49m\u001b[43m]\u001b[49m\n",
      "\u001b[31mTypeError\u001b[39m: 'method' object is not subscriptable"
     ]
    }
   ],
   "source": [
    "import pandas as pd\n",
    "from fastai.tabular.all import *\n",
    "\n",
    "test_df = pd.read_csv('test.csv')\n",
    "\n",
    "test_df['Age'] = test_df['Age'].dropna()\n",
    "test_df['Child'] = test_df['Age'].between(0, 16, inclusive='both')\n",
    "test_df['Adult'] = test_df['Age'].between(17, 45, inclusive='both')\n",
    "test_df['Senior'] = test_df['Age'].between(46, 100, inclusive='both')\n",
    "test_df['Fare_log'] = np.log1p(test_df['Fare'])\n",
    "test_df['cabin_height'] = test_df['Cabin'].str[0].fillna('U')\n",
    "test_df['Embarked'] = test_df['Embarked'].fillna(0)\n",
    "procs = [Categorify, FillMissing, Normalize]\n",
    "cat_names  = ['Sex','Embarked','cabin_height','Pclass']\n",
    "cont_names = ['Fare_log','Child','Adult','Senior','SibSp','Parch']\n",
    "\n",
    "tp = TabularPandas(\n",
    "    test_df, \n",
    "    procs=procs,\n",
    "    cat_names=cat_names, \n",
    "    cont_names=cont_names,\n",
    "    y_names='Survived',\n",
    "    y_block=RegressionBlock(),\n",
    "    splits = RandomSplitter(0.2)(range_of(test_df)),\n",
    "    )\n",
    "\n",
    "df = tp.items\n",
    "df[cont_names] = df[cont_names]\n",
    "X_test = df[cont_names + cat_names]\n"
   ]
  },
  {
   "cell_type": "code",
   "execution_count": 14,
   "id": "4831bf3e",
   "metadata": {},
   "outputs": [
    {
     "data": {
      "text/plain": [
       "['Fare_log',\n",
       " 'Child',\n",
       " 'Adult',\n",
       " 'Senior',\n",
       " 'SibSp',\n",
       " 'Parch',\n",
       " 'Sex',\n",
       " 'Embarked',\n",
       " 'cabin_height',\n",
       " 'Pclass']"
      ]
     },
     "execution_count": 14,
     "metadata": {},
     "output_type": "execute_result"
    }
   ],
   "source": [
    "X_test.columns.tolist()\n",
    "X_test = X_test.drop('Fare_log_na', axis=1)\n",
    "X_test.columns.tolist()"
   ]
  },
  {
   "cell_type": "code",
   "execution_count": 15,
   "id": "42641fde",
   "metadata": {},
   "outputs": [],
   "source": [
    "from sklearn.ensemble import RandomForestClassifier\n",
    "preds = rf.predict(X_test)"
   ]
  },
  {
   "cell_type": "code",
   "execution_count": 16,
   "id": "3f9acf29",
   "metadata": {},
   "outputs": [],
   "source": [
    "submission = pd.DataFrame({\n",
    "    'PassengerId': test_df['PassengerId'],\n",
    "    'Survived': preds\n",
    "})\n",
    "\n",
    "submission.to_csv('rfm_submission.csv', index=False)"
   ]
  }
 ],
 "metadata": {
  "kernelspec": {
   "display_name": ".venv",
   "language": "python",
   "name": "python3"
  },
  "language_info": {
   "codemirror_mode": {
    "name": "ipython",
    "version": 3
   },
   "file_extension": ".py",
   "mimetype": "text/x-python",
   "name": "python",
   "nbconvert_exporter": "python",
   "pygments_lexer": "ipython3",
   "version": "3.12.6"
  }
 },
 "nbformat": 4,
 "nbformat_minor": 5
}
