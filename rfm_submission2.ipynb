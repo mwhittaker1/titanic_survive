{
 "cells": [
  {
   "cell_type": "code",
   "execution_count": 1,
   "id": "982908e7",
   "metadata": {},
   "outputs": [],
   "source": [
    "import joblib\n",
    "\n",
    "# Load the model\n",
    "bundle = joblib.load('rf_model_bundle.pkl')\n",
    "rf = bundle['model']\n",
    "procs = bundle['procs']\n",
    "model_cols = bundle['columns']"
   ]
  },
  {
   "cell_type": "markdown",
   "id": "30d23208",
   "metadata": {},
   "source": [
    "Rebuild Feature Columns"
   ]
  },
  {
   "cell_type": "code",
   "execution_count": null,
   "id": "fee01588",
   "metadata": {},
   "outputs": [],
   "source": [
    "import pandas as pd\n",
    "from fastai.tabular.all import *\n",
    "\n",
    "test_df = pd.read_csv('test.csv')\n",
    "\n",
    "age_median = test_df['Age'].median()\n",
    "test_df['Age'] = test_df['Age'].replace(0, age_median)\n",
    "fare_median = test_df['Fare'].median()\n",
    "test_df['Fare'] = test_df['Fare'].replace(0, fare_median)\n",
    "test_df['Fare_log'] = np.log1p(test_df['Fare'])\n",
    "test_df['cabin_height'] = test_df['Cabin'].str[0].fillna('U')\n",
    "test_df['Embarked'] = test_df['Embarked'].fillna(0)\n",
    "procs = [Categorify, Normalize]\n",
    "cat_names  = ['Sex','Embarked','cabin_height','Pclass']\n",
    "cont_names = ['Fare_log','Child','Adult','Senior','SibSp','Parch']\n",
    "\n",
    "tp = TabularPandas(test_df, procs=procs, cat_names=cat_names, cont_names=cont_names, y_names=None, splits=None)\n",
    "df = tp.items\n",
    "X_test = df[model_cols]\n"
   ]
  },
  {
   "cell_type": "code",
   "execution_count": 3,
   "id": "086e32e3",
   "metadata": {},
   "outputs": [
    {
     "name": "stdout",
     "output_type": "stream",
     "text": [
      "Feature names: Index(['Fare_log', 'Child', 'Adult', 'Senior', 'SibSp', 'Parch', 'Sex',\n",
      "       'Embarked', 'cabin_height', 'Pclass'],\n",
      "      dtype='object')\n"
     ]
    }
   ],
   "source": [
    "rf.feature_names_in_ = X_test.columns\n",
    "print(\"Feature names:\", rf.feature_names_in_)"
   ]
  },
  {
   "cell_type": "code",
   "execution_count": 4,
   "id": "42641fde",
   "metadata": {},
   "outputs": [],
   "source": [
    "from sklearn.ensemble import RandomForestClassifier\n",
    "preds = rf.predict(X_test)"
   ]
  },
  {
   "cell_type": "code",
   "execution_count": null,
   "id": "3f9acf29",
   "metadata": {},
   "outputs": [],
   "source": [
    "submission = pd.DataFrame({\n",
    "    'PassengerId': test_df['PassengerId'],\n",
    "    'Survived': preds\n",
    "})\n",
    "\n",
    "submission.to_csv('rfm_submission2.csv', index=False)"
   ]
  },
  {
   "cell_type": "code",
   "execution_count": 6,
   "id": "69f722e6",
   "metadata": {},
   "outputs": [],
   "source": [
    "submission.to_csv('rfm_submission2.csv', index=False)"
   ]
  }
 ],
 "metadata": {
  "kernelspec": {
   "display_name": ".venv",
   "language": "python",
   "name": "python3"
  },
  "language_info": {
   "codemirror_mode": {
    "name": "ipython",
    "version": 3
   },
   "file_extension": ".py",
   "mimetype": "text/x-python",
   "name": "python",
   "nbconvert_exporter": "python",
   "pygments_lexer": "ipython3",
   "version": "3.12.6"
  }
 },
 "nbformat": 4,
 "nbformat_minor": 5
}
