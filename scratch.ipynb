{
 "cells": [
  {
   "cell_type": "code",
   "execution_count": 4,
   "id": "2685b3c7",
   "metadata": {},
   "outputs": [
    {
     "name": "stdout",
     "output_type": "stream",
     "text": [
      "     PassengerId  Survived  Pclass  \\\n",
      "591          592         1       1   \n",
      "\n",
      "                                                Name     Sex   Age  SibSp  \\\n",
      "591  Stephenson, Mrs. Walter Bertram (Martha Eustis)  female  52.0      1   \n",
      "\n",
      "     Parch Ticket     Fare Cabin Embarked  \n",
      "591      0  36947  78.2667   D20        C  \n"
     ]
    }
   ],
   "source": [
    "import pandas as pd\n",
    "df = pd.read_csv('train.csv')\n",
    "print(df.loc[df['PassengerId'] == 592])\n"
   ]
  }
 ],
 "metadata": {
  "kernelspec": {
   "display_name": ".venv",
   "language": "python",
   "name": "python3"
  },
  "language_info": {
   "codemirror_mode": {
    "name": "ipython",
    "version": 3
   },
   "file_extension": ".py",
   "mimetype": "text/x-python",
   "name": "python",
   "nbconvert_exporter": "python",
   "pygments_lexer": "ipython3",
   "version": "3.12.6"
  }
 },
 "nbformat": 4,
 "nbformat_minor": 5
}
