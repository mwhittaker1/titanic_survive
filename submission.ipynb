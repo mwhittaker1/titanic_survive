{
 "cells": [
  {
   "cell_type": "code",
   "execution_count": 35,
   "id": "31cee44c",
   "metadata": {},
   "outputs": [
    {
     "name": "stderr",
     "output_type": "stream",
     "text": [
      "c:\\Code\\Local Code\\titanic_survive\\.venv\\Lib\\site-packages\\fastai\\learner.py:455: UserWarning: load_learner` uses Python's insecure pickle module, which can execute malicious arbitrary code when loading. Only load files you trust.\n",
      "If you only need to load model weights and optimizer state, use the safe `Learner.load` instead.\n",
      "  warn(\"load_learner` uses Python's insecure pickle module, which can execute malicious arbitrary code when loading. Only load files you trust.\\nIf you only need to load model weights and optimizer state, use the safe `Learner.load` instead.\")\n"
     ]
    }
   ],
   "source": [
    "from fastai.tabular.all import load_learner\n",
    "learn = load_learner('titanic_model_v3.3.pkl')"
   ]
  },
  {
   "cell_type": "code",
   "execution_count": null,
   "id": "f1e2a593",
   "metadata": {},
   "outputs": [
    {
     "name": "stdout",
     "output_type": "stream",
     "text": [
      "Missing in test: {'Fare': np.int64(1), 'Age': np.int64(86)}\n"
     ]
    },
    {
     "ename": "AssertionError",
     "evalue": "nan values in `Fare` but not in setup training set",
     "output_type": "error",
     "traceback": [
      "\u001b[31m---------------------------------------------------------------------------\u001b[39m",
      "\u001b[31mAssertionError\u001b[39m                            Traceback (most recent call last)",
      "\u001b[36mCell\u001b[39m\u001b[36m \u001b[39m\u001b[32mIn[36]\u001b[39m\u001b[32m, line 26\u001b[39m\n\u001b[32m     23\u001b[39m test_df[\u001b[33m'\u001b[39m\u001b[33mnorm_age\u001b[39m\u001b[33m'\u001b[39m] = (test_df[\u001b[33m'\u001b[39m\u001b[33mAge\u001b[39m\u001b[33m'\u001b[39m] - age_min) / (age_max - age_min)\n\u001b[32m     25\u001b[39m \u001b[38;5;66;03m# 3. Now build the test DataLoader and predict\u001b[39;00m\n\u001b[32m---> \u001b[39m\u001b[32m26\u001b[39m test_dl = \u001b[43mlearn\u001b[49m\u001b[43m.\u001b[49m\u001b[43mdls\u001b[49m\u001b[43m.\u001b[49m\u001b[43mtest_dl\u001b[49m\u001b[43m(\u001b[49m\u001b[43mtest_df\u001b[49m\u001b[43m)\u001b[49m\n\u001b[32m     27\u001b[39m preds, _ = learn.get_preds(dl=test_dl)\n\u001b[32m     28\u001b[39m class_preds = preds.argmax(dim=\u001b[32m1\u001b[39m)\n",
      "\u001b[36mFile \u001b[39m\u001b[32mc:\\Code\\Local Code\\titanic_survive\\.venv\\Lib\\site-packages\\fastai\\tabular\\data.py:56\u001b[39m, in \u001b[36mTabularDataLoaders.test_dl\u001b[39m\u001b[34m(self, test_items, rm_type_tfms, process, inplace, **kwargs)\u001b[39m\n\u001b[32m     54\u001b[39m \u001b[33m\"\u001b[39m\u001b[33mCreate test `TabDataLoader` from `test_items` using validation `procs`\u001b[39m\u001b[33m\"\u001b[39m\n\u001b[32m     55\u001b[39m to = \u001b[38;5;28mself\u001b[39m.train_ds.new(test_items, inplace=inplace)\n\u001b[32m---> \u001b[39m\u001b[32m56\u001b[39m \u001b[38;5;28;01mif\u001b[39;00m process: \u001b[43mto\u001b[49m\u001b[43m.\u001b[49m\u001b[43mprocess\u001b[49m\u001b[43m(\u001b[49m\u001b[43m)\u001b[49m\n\u001b[32m     57\u001b[39m \u001b[38;5;28;01mreturn\u001b[39;00m \u001b[38;5;28mself\u001b[39m.valid.new(to, **kwargs)\n",
      "\u001b[36mFile \u001b[39m\u001b[32mc:\\Code\\Local Code\\titanic_survive\\.venv\\Lib\\site-packages\\fastai\\tabular\\core.py:182\u001b[39m, in \u001b[36mTabular.process\u001b[39m\u001b[34m(self)\u001b[39m\n\u001b[32m--> \u001b[39m\u001b[32m182\u001b[39m \u001b[38;5;28;01mdef\u001b[39;00m\u001b[38;5;250m \u001b[39m\u001b[34mprocess\u001b[39m(\u001b[38;5;28mself\u001b[39m): \u001b[38;5;28;43mself\u001b[39;49m\u001b[43m.\u001b[49m\u001b[43mprocs\u001b[49m\u001b[43m(\u001b[49m\u001b[38;5;28;43mself\u001b[39;49m\u001b[43m)\u001b[49m\n",
      "\u001b[36mFile \u001b[39m\u001b[32mc:\\Code\\Local Code\\titanic_survive\\.venv\\Lib\\site-packages\\fasttransform\\transform.py:248\u001b[39m, in \u001b[36mPipeline.__call__\u001b[39m\u001b[34m(self, o)\u001b[39m\n\u001b[32m--> \u001b[39m\u001b[32m248\u001b[39m \u001b[38;5;28;01mdef\u001b[39;00m\u001b[38;5;250m \u001b[39m\u001b[34m__call__\u001b[39m(\u001b[38;5;28mself\u001b[39m, o): \u001b[38;5;28;01mreturn\u001b[39;00m \u001b[43mcompose_tfms\u001b[49m\u001b[43m(\u001b[49m\u001b[43mo\u001b[49m\u001b[43m,\u001b[49m\u001b[43m \u001b[49m\u001b[43mtfms\u001b[49m\u001b[43m=\u001b[49m\u001b[38;5;28;43mself\u001b[39;49m\u001b[43m.\u001b[49m\u001b[43mfs\u001b[49m\u001b[43m,\u001b[49m\u001b[43m \u001b[49m\u001b[43msplit_idx\u001b[49m\u001b[43m=\u001b[49m\u001b[38;5;28;43mself\u001b[39;49m\u001b[43m.\u001b[49m\u001b[43msplit_idx\u001b[49m\u001b[43m)\u001b[49m\n",
      "\u001b[36mFile \u001b[39m\u001b[32mc:\\Code\\Local Code\\titanic_survive\\.venv\\Lib\\site-packages\\fasttransform\\transform.py:197\u001b[39m, in \u001b[36mcompose_tfms\u001b[39m\u001b[34m(x, tfms, is_enc, reverse, **kwargs)\u001b[39m\n\u001b[32m    195\u001b[39m \u001b[38;5;28;01mfor\u001b[39;00m f \u001b[38;5;129;01min\u001b[39;00m tfms:\n\u001b[32m    196\u001b[39m     \u001b[38;5;28;01mif\u001b[39;00m \u001b[38;5;129;01mnot\u001b[39;00m is_enc: f = f.decode\n\u001b[32m--> \u001b[39m\u001b[32m197\u001b[39m     x = \u001b[43mf\u001b[49m\u001b[43m(\u001b[49m\u001b[43mx\u001b[49m\u001b[43m,\u001b[49m\u001b[43m \u001b[49m\u001b[43m*\u001b[49m\u001b[43m*\u001b[49m\u001b[43mkwargs\u001b[49m\u001b[43m)\u001b[49m\n\u001b[32m    198\u001b[39m \u001b[38;5;28;01mreturn\u001b[39;00m x\n",
      "\u001b[36mFile \u001b[39m\u001b[32mc:\\Code\\Local Code\\titanic_survive\\.venv\\Lib\\site-packages\\fasttransform\\transform.py:114\u001b[39m, in \u001b[36mTransform.__call__\u001b[39m\u001b[34m(self, split_idx, *args, **kwargs)\u001b[39m\n\u001b[32m--> \u001b[39m\u001b[32m114\u001b[39m \u001b[38;5;28;01mdef\u001b[39;00m\u001b[38;5;250m \u001b[39m\u001b[34m__call__\u001b[39m(\u001b[38;5;28mself\u001b[39m,*args,split_idx=\u001b[38;5;28;01mNone\u001b[39;00m, **kwargs): \u001b[38;5;28;01mreturn\u001b[39;00m \u001b[38;5;28;43mself\u001b[39;49m\u001b[43m.\u001b[49m\u001b[43m_call\u001b[49m\u001b[43m(\u001b[49m\u001b[33;43m'\u001b[39;49m\u001b[33;43mencodes\u001b[39;49m\u001b[33;43m'\u001b[39;49m\u001b[43m,\u001b[49m\u001b[43m \u001b[49m\u001b[43m*\u001b[49m\u001b[43margs\u001b[49m\u001b[43m,\u001b[49m\u001b[43m \u001b[49m\u001b[43msplit_idx\u001b[49m\u001b[43m=\u001b[49m\u001b[43msplit_idx\u001b[49m\u001b[43m,\u001b[49m\u001b[43m \u001b[49m\u001b[43m*\u001b[49m\u001b[43m*\u001b[49m\u001b[43mkwargs\u001b[49m\u001b[43m)\u001b[49m\n",
      "\u001b[36mFile \u001b[39m\u001b[32mc:\\Code\\Local Code\\titanic_survive\\.venv\\Lib\\site-packages\\fasttransform\\transform.py:144\u001b[39m, in \u001b[36mInplaceTransform._call\u001b[39m\u001b[34m(self, fn, split_idx, *args, **kwargs)\u001b[39m\n\u001b[32m    143\u001b[39m \u001b[38;5;28;01mdef\u001b[39;00m\u001b[38;5;250m \u001b[39m\u001b[34m_call\u001b[39m(\u001b[38;5;28mself\u001b[39m, fn, *args, split_idx=\u001b[38;5;28;01mNone\u001b[39;00m, **kwargs):\n\u001b[32m--> \u001b[39m\u001b[32m144\u001b[39m     \u001b[38;5;28;43msuper\u001b[39;49m\u001b[43m(\u001b[49m\u001b[43m)\u001b[49m\u001b[43m.\u001b[49m\u001b[43m_call\u001b[49m\u001b[43m(\u001b[49m\u001b[43mfn\u001b[49m\u001b[43m,\u001b[49m\u001b[43m*\u001b[49m\u001b[43margs\u001b[49m\u001b[43m,\u001b[49m\u001b[43m \u001b[49m\u001b[43msplit_idx\u001b[49m\u001b[43m=\u001b[49m\u001b[43msplit_idx\u001b[49m\u001b[43m,\u001b[49m\u001b[43m \u001b[49m\u001b[43m*\u001b[49m\u001b[43m*\u001b[49m\u001b[43mkwargs\u001b[49m\u001b[43m)\u001b[49m\n\u001b[32m    145\u001b[39m     \u001b[38;5;28;01mreturn\u001b[39;00m args[\u001b[32m0\u001b[39m]\n",
      "\u001b[36mFile \u001b[39m\u001b[32mc:\\Code\\Local Code\\titanic_survive\\.venv\\Lib\\site-packages\\fasttransform\\transform.py:125\u001b[39m, in \u001b[36mTransform._call\u001b[39m\u001b[34m(self, nm, split_idx, *args, **kwargs)\u001b[39m\n\u001b[32m    123\u001b[39m \u001b[38;5;28;01mif\u001b[39;00m split_idx!=\u001b[38;5;28mself\u001b[39m.split_idx \u001b[38;5;129;01mand\u001b[39;00m \u001b[38;5;28mself\u001b[39m.split_idx \u001b[38;5;129;01mis\u001b[39;00m \u001b[38;5;129;01mnot\u001b[39;00m \u001b[38;5;28;01mNone\u001b[39;00m: \u001b[38;5;28;01mreturn\u001b[39;00m args[\u001b[32m0\u001b[39m]\n\u001b[32m    124\u001b[39m \u001b[38;5;28;01mif\u001b[39;00m \u001b[38;5;129;01mnot\u001b[39;00m \u001b[38;5;28mhasattr\u001b[39m(\u001b[38;5;28mself\u001b[39m, nm): \u001b[38;5;28;01mreturn\u001b[39;00m args[\u001b[32m0\u001b[39m]\n\u001b[32m--> \u001b[39m\u001b[32m125\u001b[39m \u001b[38;5;28;01mreturn\u001b[39;00m \u001b[38;5;28;43mself\u001b[39;49m\u001b[43m.\u001b[49m\u001b[43m_do_call\u001b[49m\u001b[43m(\u001b[49m\u001b[43mnm\u001b[49m\u001b[43m,\u001b[49m\u001b[43m \u001b[49m\u001b[43m*\u001b[49m\u001b[43margs\u001b[49m\u001b[43m,\u001b[49m\u001b[43m \u001b[49m\u001b[43m*\u001b[49m\u001b[43m*\u001b[49m\u001b[43mkwargs\u001b[49m\u001b[43m)\u001b[49m\n",
      "\u001b[36mFile \u001b[39m\u001b[32mc:\\Code\\Local Code\\titanic_survive\\.venv\\Lib\\site-packages\\fasttransform\\transform.py:136\u001b[39m, in \u001b[36mTransform._do_call\u001b[39m\u001b[34m(self, nm, *args, **kwargs)\u001b[39m\n\u001b[32m    134\u001b[39m \u001b[38;5;28;01mtry\u001b[39;00m: method, ret_type = f._resolve_method_with_cache(f_args)\n\u001b[32m    135\u001b[39m \u001b[38;5;28;01mexcept\u001b[39;00m NotFoundLookupError: \u001b[38;5;28;01mreturn\u001b[39;00m x\n\u001b[32m--> \u001b[39m\u001b[32m136\u001b[39m \u001b[38;5;28;01mreturn\u001b[39;00m retain_type(\u001b[43mmethod\u001b[49m\u001b[43m(\u001b[49m\u001b[43m*\u001b[49m\u001b[43mf_args\u001b[49m\u001b[43m,\u001b[49m\u001b[43m*\u001b[49m\u001b[43m*\u001b[49m\u001b[43mkwargs\u001b[49m\u001b[43m)\u001b[49m, x, ret_type)\n",
      "\u001b[36mFile \u001b[39m\u001b[32mc:\\Code\\Local Code\\titanic_survive\\.venv\\Lib\\site-packages\\fastai\\tabular\\core.py:312\u001b[39m, in \u001b[36mFillMissing.encodes\u001b[39m\u001b[34m(self, to)\u001b[39m\n\u001b[32m    310\u001b[39m missing = pd.isnull(to.conts)\n\u001b[32m    311\u001b[39m \u001b[38;5;28;01mfor\u001b[39;00m n \u001b[38;5;129;01min\u001b[39;00m missing.any()[missing.any()].keys():\n\u001b[32m--> \u001b[39m\u001b[32m312\u001b[39m     \u001b[38;5;28;01massert\u001b[39;00m n \u001b[38;5;129;01min\u001b[39;00m \u001b[38;5;28mself\u001b[39m.na_dict, \u001b[33mf\u001b[39m\u001b[33m\"\u001b[39m\u001b[33mnan values in `\u001b[39m\u001b[38;5;132;01m{\u001b[39;00mn\u001b[38;5;132;01m}\u001b[39;00m\u001b[33m` but not in setup training set\u001b[39m\u001b[33m\"\u001b[39m\n\u001b[32m    313\u001b[39m \u001b[38;5;28;01mfor\u001b[39;00m n \u001b[38;5;129;01min\u001b[39;00m \u001b[38;5;28mself\u001b[39m.na_dict.keys():\n\u001b[32m    314\u001b[39m     to[n].fillna(\u001b[38;5;28mself\u001b[39m.na_dict[n], inplace=\u001b[38;5;28;01mTrue\u001b[39;00m)\n",
      "\u001b[31mAssertionError\u001b[39m: nan values in `Fare` but not in setup training set"
     ]
    }
   ],
   "source": [
    "import pandas as pd\n",
    "import numpy as np\n",
    "from fastai.tabular.all import load_learner\n",
    "\n",
    "test_df = pd.read_csv('test.csv')\n",
    "conts = learn.dls.cont_names\n",
    "missing = {c: test_df[c].isnull().sum() for c in conts}\n",
    "print(\"Missing in test:\", missing)\n",
    "\n",
    "for c,n in missing.items():\n",
    "    if n>0:\n",
    "        med = learn.dls.train_ds.items[c].median()\n",
    "        test_df[c] = test_df[c].fillna(med)\n",
    "\n",
    "test_df.head()\n",
    "test_dl = learn.dls.test_dl(test_df)\n",
    "preds, _ = learn.get_preds(dl=test_dl)"
   ]
  },
  {
   "cell_type": "code",
   "execution_count": 32,
   "id": "01552894",
   "metadata": {},
   "outputs": [
    {
     "ename": "AssertionError",
     "evalue": "nan values in `Fare` but not in setup training set",
     "output_type": "error",
     "traceback": [
      "\u001b[31m---------------------------------------------------------------------------\u001b[39m",
      "\u001b[31mAssertionError\u001b[39m                            Traceback (most recent call last)",
      "\u001b[36mCell\u001b[39m\u001b[36m \u001b[39m\u001b[32mIn[32]\u001b[39m\u001b[32m, line 1\u001b[39m\n\u001b[32m----> \u001b[39m\u001b[32m1\u001b[39m test_dl = \u001b[43mlearn\u001b[49m\u001b[43m.\u001b[49m\u001b[43mdls\u001b[49m\u001b[43m.\u001b[49m\u001b[43mtest_dl\u001b[49m\u001b[43m(\u001b[49m\u001b[43mtest_df\u001b[49m\u001b[43m)\u001b[49m\n\u001b[32m      2\u001b[39m preds, _ = learn.get_preds(dl=test_dl)\n",
      "\u001b[36mFile \u001b[39m\u001b[32mc:\\Code\\Local Code\\titanic_survive\\.venv\\Lib\\site-packages\\fastai\\tabular\\data.py:56\u001b[39m, in \u001b[36mTabularDataLoaders.test_dl\u001b[39m\u001b[34m(self, test_items, rm_type_tfms, process, inplace, **kwargs)\u001b[39m\n\u001b[32m     54\u001b[39m \u001b[33m\"\u001b[39m\u001b[33mCreate test `TabDataLoader` from `test_items` using validation `procs`\u001b[39m\u001b[33m\"\u001b[39m\n\u001b[32m     55\u001b[39m to = \u001b[38;5;28mself\u001b[39m.train_ds.new(test_items, inplace=inplace)\n\u001b[32m---> \u001b[39m\u001b[32m56\u001b[39m \u001b[38;5;28;01mif\u001b[39;00m process: \u001b[43mto\u001b[49m\u001b[43m.\u001b[49m\u001b[43mprocess\u001b[49m\u001b[43m(\u001b[49m\u001b[43m)\u001b[49m\n\u001b[32m     57\u001b[39m \u001b[38;5;28;01mreturn\u001b[39;00m \u001b[38;5;28mself\u001b[39m.valid.new(to, **kwargs)\n",
      "\u001b[36mFile \u001b[39m\u001b[32mc:\\Code\\Local Code\\titanic_survive\\.venv\\Lib\\site-packages\\fastai\\tabular\\core.py:182\u001b[39m, in \u001b[36mTabular.process\u001b[39m\u001b[34m(self)\u001b[39m\n\u001b[32m--> \u001b[39m\u001b[32m182\u001b[39m \u001b[38;5;28;01mdef\u001b[39;00m\u001b[38;5;250m \u001b[39m\u001b[34mprocess\u001b[39m(\u001b[38;5;28mself\u001b[39m): \u001b[38;5;28;43mself\u001b[39;49m\u001b[43m.\u001b[49m\u001b[43mprocs\u001b[49m\u001b[43m(\u001b[49m\u001b[38;5;28;43mself\u001b[39;49m\u001b[43m)\u001b[49m\n",
      "\u001b[36mFile \u001b[39m\u001b[32mc:\\Code\\Local Code\\titanic_survive\\.venv\\Lib\\site-packages\\fasttransform\\transform.py:248\u001b[39m, in \u001b[36mPipeline.__call__\u001b[39m\u001b[34m(self, o)\u001b[39m\n\u001b[32m--> \u001b[39m\u001b[32m248\u001b[39m \u001b[38;5;28;01mdef\u001b[39;00m\u001b[38;5;250m \u001b[39m\u001b[34m__call__\u001b[39m(\u001b[38;5;28mself\u001b[39m, o): \u001b[38;5;28;01mreturn\u001b[39;00m \u001b[43mcompose_tfms\u001b[49m\u001b[43m(\u001b[49m\u001b[43mo\u001b[49m\u001b[43m,\u001b[49m\u001b[43m \u001b[49m\u001b[43mtfms\u001b[49m\u001b[43m=\u001b[49m\u001b[38;5;28;43mself\u001b[39;49m\u001b[43m.\u001b[49m\u001b[43mfs\u001b[49m\u001b[43m,\u001b[49m\u001b[43m \u001b[49m\u001b[43msplit_idx\u001b[49m\u001b[43m=\u001b[49m\u001b[38;5;28;43mself\u001b[39;49m\u001b[43m.\u001b[49m\u001b[43msplit_idx\u001b[49m\u001b[43m)\u001b[49m\n",
      "\u001b[36mFile \u001b[39m\u001b[32mc:\\Code\\Local Code\\titanic_survive\\.venv\\Lib\\site-packages\\fasttransform\\transform.py:197\u001b[39m, in \u001b[36mcompose_tfms\u001b[39m\u001b[34m(x, tfms, is_enc, reverse, **kwargs)\u001b[39m\n\u001b[32m    195\u001b[39m \u001b[38;5;28;01mfor\u001b[39;00m f \u001b[38;5;129;01min\u001b[39;00m tfms:\n\u001b[32m    196\u001b[39m     \u001b[38;5;28;01mif\u001b[39;00m \u001b[38;5;129;01mnot\u001b[39;00m is_enc: f = f.decode\n\u001b[32m--> \u001b[39m\u001b[32m197\u001b[39m     x = \u001b[43mf\u001b[49m\u001b[43m(\u001b[49m\u001b[43mx\u001b[49m\u001b[43m,\u001b[49m\u001b[43m \u001b[49m\u001b[43m*\u001b[49m\u001b[43m*\u001b[49m\u001b[43mkwargs\u001b[49m\u001b[43m)\u001b[49m\n\u001b[32m    198\u001b[39m \u001b[38;5;28;01mreturn\u001b[39;00m x\n",
      "\u001b[36mFile \u001b[39m\u001b[32mc:\\Code\\Local Code\\titanic_survive\\.venv\\Lib\\site-packages\\fasttransform\\transform.py:114\u001b[39m, in \u001b[36mTransform.__call__\u001b[39m\u001b[34m(self, split_idx, *args, **kwargs)\u001b[39m\n\u001b[32m--> \u001b[39m\u001b[32m114\u001b[39m \u001b[38;5;28;01mdef\u001b[39;00m\u001b[38;5;250m \u001b[39m\u001b[34m__call__\u001b[39m(\u001b[38;5;28mself\u001b[39m,*args,split_idx=\u001b[38;5;28;01mNone\u001b[39;00m, **kwargs): \u001b[38;5;28;01mreturn\u001b[39;00m \u001b[38;5;28;43mself\u001b[39;49m\u001b[43m.\u001b[49m\u001b[43m_call\u001b[49m\u001b[43m(\u001b[49m\u001b[33;43m'\u001b[39;49m\u001b[33;43mencodes\u001b[39;49m\u001b[33;43m'\u001b[39;49m\u001b[43m,\u001b[49m\u001b[43m \u001b[49m\u001b[43m*\u001b[49m\u001b[43margs\u001b[49m\u001b[43m,\u001b[49m\u001b[43m \u001b[49m\u001b[43msplit_idx\u001b[49m\u001b[43m=\u001b[49m\u001b[43msplit_idx\u001b[49m\u001b[43m,\u001b[49m\u001b[43m \u001b[49m\u001b[43m*\u001b[49m\u001b[43m*\u001b[49m\u001b[43mkwargs\u001b[49m\u001b[43m)\u001b[49m\n",
      "\u001b[36mFile \u001b[39m\u001b[32mc:\\Code\\Local Code\\titanic_survive\\.venv\\Lib\\site-packages\\fasttransform\\transform.py:144\u001b[39m, in \u001b[36mInplaceTransform._call\u001b[39m\u001b[34m(self, fn, split_idx, *args, **kwargs)\u001b[39m\n\u001b[32m    143\u001b[39m \u001b[38;5;28;01mdef\u001b[39;00m\u001b[38;5;250m \u001b[39m\u001b[34m_call\u001b[39m(\u001b[38;5;28mself\u001b[39m, fn, *args, split_idx=\u001b[38;5;28;01mNone\u001b[39;00m, **kwargs):\n\u001b[32m--> \u001b[39m\u001b[32m144\u001b[39m     \u001b[38;5;28;43msuper\u001b[39;49m\u001b[43m(\u001b[49m\u001b[43m)\u001b[49m\u001b[43m.\u001b[49m\u001b[43m_call\u001b[49m\u001b[43m(\u001b[49m\u001b[43mfn\u001b[49m\u001b[43m,\u001b[49m\u001b[43m*\u001b[49m\u001b[43margs\u001b[49m\u001b[43m,\u001b[49m\u001b[43m \u001b[49m\u001b[43msplit_idx\u001b[49m\u001b[43m=\u001b[49m\u001b[43msplit_idx\u001b[49m\u001b[43m,\u001b[49m\u001b[43m \u001b[49m\u001b[43m*\u001b[49m\u001b[43m*\u001b[49m\u001b[43mkwargs\u001b[49m\u001b[43m)\u001b[49m\n\u001b[32m    145\u001b[39m     \u001b[38;5;28;01mreturn\u001b[39;00m args[\u001b[32m0\u001b[39m]\n",
      "\u001b[36mFile \u001b[39m\u001b[32mc:\\Code\\Local Code\\titanic_survive\\.venv\\Lib\\site-packages\\fasttransform\\transform.py:125\u001b[39m, in \u001b[36mTransform._call\u001b[39m\u001b[34m(self, nm, split_idx, *args, **kwargs)\u001b[39m\n\u001b[32m    123\u001b[39m \u001b[38;5;28;01mif\u001b[39;00m split_idx!=\u001b[38;5;28mself\u001b[39m.split_idx \u001b[38;5;129;01mand\u001b[39;00m \u001b[38;5;28mself\u001b[39m.split_idx \u001b[38;5;129;01mis\u001b[39;00m \u001b[38;5;129;01mnot\u001b[39;00m \u001b[38;5;28;01mNone\u001b[39;00m: \u001b[38;5;28;01mreturn\u001b[39;00m args[\u001b[32m0\u001b[39m]\n\u001b[32m    124\u001b[39m \u001b[38;5;28;01mif\u001b[39;00m \u001b[38;5;129;01mnot\u001b[39;00m \u001b[38;5;28mhasattr\u001b[39m(\u001b[38;5;28mself\u001b[39m, nm): \u001b[38;5;28;01mreturn\u001b[39;00m args[\u001b[32m0\u001b[39m]\n\u001b[32m--> \u001b[39m\u001b[32m125\u001b[39m \u001b[38;5;28;01mreturn\u001b[39;00m \u001b[38;5;28;43mself\u001b[39;49m\u001b[43m.\u001b[49m\u001b[43m_do_call\u001b[49m\u001b[43m(\u001b[49m\u001b[43mnm\u001b[49m\u001b[43m,\u001b[49m\u001b[43m \u001b[49m\u001b[43m*\u001b[49m\u001b[43margs\u001b[49m\u001b[43m,\u001b[49m\u001b[43m \u001b[49m\u001b[43m*\u001b[49m\u001b[43m*\u001b[49m\u001b[43mkwargs\u001b[49m\u001b[43m)\u001b[49m\n",
      "\u001b[36mFile \u001b[39m\u001b[32mc:\\Code\\Local Code\\titanic_survive\\.venv\\Lib\\site-packages\\fasttransform\\transform.py:136\u001b[39m, in \u001b[36mTransform._do_call\u001b[39m\u001b[34m(self, nm, *args, **kwargs)\u001b[39m\n\u001b[32m    134\u001b[39m \u001b[38;5;28;01mtry\u001b[39;00m: method, ret_type = f._resolve_method_with_cache(f_args)\n\u001b[32m    135\u001b[39m \u001b[38;5;28;01mexcept\u001b[39;00m NotFoundLookupError: \u001b[38;5;28;01mreturn\u001b[39;00m x\n\u001b[32m--> \u001b[39m\u001b[32m136\u001b[39m \u001b[38;5;28;01mreturn\u001b[39;00m retain_type(\u001b[43mmethod\u001b[49m\u001b[43m(\u001b[49m\u001b[43m*\u001b[49m\u001b[43mf_args\u001b[49m\u001b[43m,\u001b[49m\u001b[43m*\u001b[49m\u001b[43m*\u001b[49m\u001b[43mkwargs\u001b[49m\u001b[43m)\u001b[49m, x, ret_type)\n",
      "\u001b[36mFile \u001b[39m\u001b[32mc:\\Code\\Local Code\\titanic_survive\\.venv\\Lib\\site-packages\\fastai\\tabular\\core.py:312\u001b[39m, in \u001b[36mFillMissing.encodes\u001b[39m\u001b[34m(self, to)\u001b[39m\n\u001b[32m    310\u001b[39m missing = pd.isnull(to.conts)\n\u001b[32m    311\u001b[39m \u001b[38;5;28;01mfor\u001b[39;00m n \u001b[38;5;129;01min\u001b[39;00m missing.any()[missing.any()].keys():\n\u001b[32m--> \u001b[39m\u001b[32m312\u001b[39m     \u001b[38;5;28;01massert\u001b[39;00m n \u001b[38;5;129;01min\u001b[39;00m \u001b[38;5;28mself\u001b[39m.na_dict, \u001b[33mf\u001b[39m\u001b[33m\"\u001b[39m\u001b[33mnan values in `\u001b[39m\u001b[38;5;132;01m{\u001b[39;00mn\u001b[38;5;132;01m}\u001b[39;00m\u001b[33m` but not in setup training set\u001b[39m\u001b[33m\"\u001b[39m\n\u001b[32m    313\u001b[39m \u001b[38;5;28;01mfor\u001b[39;00m n \u001b[38;5;129;01min\u001b[39;00m \u001b[38;5;28mself\u001b[39m.na_dict.keys():\n\u001b[32m    314\u001b[39m     to[n].fillna(\u001b[38;5;28mself\u001b[39m.na_dict[n], inplace=\u001b[38;5;28;01mTrue\u001b[39;00m)\n",
      "\u001b[31mAssertionError\u001b[39m: nan values in `Fare` but not in setup training set"
     ]
    }
   ],
   "source": [
    "test_dl = learn.dls.test_dl(test_df)\n",
    "preds, _ = learn.get_preds(dl=test_dl)"
   ]
  },
  {
   "cell_type": "code",
   "execution_count": null,
   "id": "e820954d",
   "metadata": {},
   "outputs": [],
   "source": [
    "pred_classes = preds.argmax(dim=1)"
   ]
  },
  {
   "cell_type": "code",
   "execution_count": null,
   "id": "eda34d75",
   "metadata": {},
   "outputs": [],
   "source": [
    "submission = pd.DataFrame({\n",
    "    'PassengerId': test_df['PassengerId'],\n",
    "    'Survived':     pred_classes.numpy()\n",
    "})"
   ]
  },
  {
   "cell_type": "code",
   "execution_count": null,
   "id": "7ce4d421",
   "metadata": {},
   "outputs": [],
   "source": [
    "submission.to_csv('titanic_submission.csv', index=False)"
   ]
  }
 ],
 "metadata": {
  "kernelspec": {
   "display_name": ".venv",
   "language": "python",
   "name": "python3"
  },
  "language_info": {
   "codemirror_mode": {
    "name": "ipython",
    "version": 3
   },
   "file_extension": ".py",
   "mimetype": "text/x-python",
   "name": "python",
   "nbconvert_exporter": "python",
   "pygments_lexer": "ipython3",
   "version": "3.12.6"
  }
 },
 "nbformat": 4,
 "nbformat_minor": 5
}
